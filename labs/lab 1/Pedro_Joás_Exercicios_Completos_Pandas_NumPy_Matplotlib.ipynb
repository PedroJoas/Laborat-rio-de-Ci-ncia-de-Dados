{
  "cells": [
    {
      "cell_type": "markdown",
      "id": "4fa232a8",
      "metadata": {
        "id": "4fa232a8"
      },
      "source": [
        "\n",
        "# Exercício Completo de Análise de Dados com Pandas, NumPy e Matplotlib\n",
        "\n",
        "Este notebook contém um conjunto de 30 exercícios práticos divididos igualmente entre **Pandas**, **NumPy** e **Matplotlib**.\n",
        "Cada seção possui 10 exercícios com dicas para ajudar no desenvolvimento.\n",
        "\n",
        "---\n"
      ]
    },
    {
      "cell_type": "markdown",
      "id": "48c37c91",
      "metadata": {
        "id": "48c37c91"
      },
      "source": [
        "# Exercícios com Pandas"
      ]
    },
    {
      "cell_type": "markdown",
      "id": "262ba271",
      "metadata": {
        "id": "262ba271"
      },
      "source": [
        "### Exercício 1: Carregar dados de um arquivo CSV e exibir as primeiras 10 linhas."
      ]
    },
    {
      "cell_type": "markdown",
      "id": "a08d7b1f",
      "metadata": {
        "id": "a08d7b1f"
      },
      "source": [
        "**Dica: Use `pd.read_csv()` e `head()`.**"
      ]
    },
    {
      "cell_type": "code",
      "execution_count": null,
      "id": "8bdcb824",
      "metadata": {
        "id": "8bdcb824",
        "colab": {
          "base_uri": "https://localhost:8080/",
          "height": 206
        },
        "outputId": "4c66b814-91ae-418a-8db1-f416c9631d10"
      },
      "outputs": [
        {
          "output_type": "execute_result",
          "data": {
            "text/plain": [
              "   Order ID     Product     Category    Price  Quantity        Date  \\\n",
              "0     101.0      Laptop  Electronics  1200.50       2.0  2023-01-15   \n",
              "1     102.0  Smartphone  Electronics   800.99       5.0  2023-02-20   \n",
              "2     103.0      Tablet  Electronics   300.00       3.0  2023-03-05   \n",
              "3     104.0     Monitor  Electronics   150.00       4.0  2023-03-18   \n",
              "4     105.0    Keyboard  Accessories    25.99      10.0  2023-04-10   \n",
              "\n",
              "          City Payment Method  \n",
              "0     New York    Credit Card  \n",
              "1  Los Angeles         PayPal  \n",
              "2          NaN            NaN  \n",
              "3      Houston     Debit Card  \n",
              "4      Phoenix    Credit Card  "
            ],
            "text/html": [
              "\n",
              "  <div id=\"df-5c0eecf4-82fb-4158-9915-40cfc9cc6ae1\" class=\"colab-df-container\">\n",
              "    <div>\n",
              "<style scoped>\n",
              "    .dataframe tbody tr th:only-of-type {\n",
              "        vertical-align: middle;\n",
              "    }\n",
              "\n",
              "    .dataframe tbody tr th {\n",
              "        vertical-align: top;\n",
              "    }\n",
              "\n",
              "    .dataframe thead th {\n",
              "        text-align: right;\n",
              "    }\n",
              "</style>\n",
              "<table border=\"1\" class=\"dataframe\">\n",
              "  <thead>\n",
              "    <tr style=\"text-align: right;\">\n",
              "      <th></th>\n",
              "      <th>Order ID</th>\n",
              "      <th>Product</th>\n",
              "      <th>Category</th>\n",
              "      <th>Price</th>\n",
              "      <th>Quantity</th>\n",
              "      <th>Date</th>\n",
              "      <th>City</th>\n",
              "      <th>Payment Method</th>\n",
              "    </tr>\n",
              "  </thead>\n",
              "  <tbody>\n",
              "    <tr>\n",
              "      <th>0</th>\n",
              "      <td>101.0</td>\n",
              "      <td>Laptop</td>\n",
              "      <td>Electronics</td>\n",
              "      <td>1200.50</td>\n",
              "      <td>2.0</td>\n",
              "      <td>2023-01-15</td>\n",
              "      <td>New York</td>\n",
              "      <td>Credit Card</td>\n",
              "    </tr>\n",
              "    <tr>\n",
              "      <th>1</th>\n",
              "      <td>102.0</td>\n",
              "      <td>Smartphone</td>\n",
              "      <td>Electronics</td>\n",
              "      <td>800.99</td>\n",
              "      <td>5.0</td>\n",
              "      <td>2023-02-20</td>\n",
              "      <td>Los Angeles</td>\n",
              "      <td>PayPal</td>\n",
              "    </tr>\n",
              "    <tr>\n",
              "      <th>2</th>\n",
              "      <td>103.0</td>\n",
              "      <td>Tablet</td>\n",
              "      <td>Electronics</td>\n",
              "      <td>300.00</td>\n",
              "      <td>3.0</td>\n",
              "      <td>2023-03-05</td>\n",
              "      <td>NaN</td>\n",
              "      <td>NaN</td>\n",
              "    </tr>\n",
              "    <tr>\n",
              "      <th>3</th>\n",
              "      <td>104.0</td>\n",
              "      <td>Monitor</td>\n",
              "      <td>Electronics</td>\n",
              "      <td>150.00</td>\n",
              "      <td>4.0</td>\n",
              "      <td>2023-03-18</td>\n",
              "      <td>Houston</td>\n",
              "      <td>Debit Card</td>\n",
              "    </tr>\n",
              "    <tr>\n",
              "      <th>4</th>\n",
              "      <td>105.0</td>\n",
              "      <td>Keyboard</td>\n",
              "      <td>Accessories</td>\n",
              "      <td>25.99</td>\n",
              "      <td>10.0</td>\n",
              "      <td>2023-04-10</td>\n",
              "      <td>Phoenix</td>\n",
              "      <td>Credit Card</td>\n",
              "    </tr>\n",
              "  </tbody>\n",
              "</table>\n",
              "</div>\n",
              "    <div class=\"colab-df-buttons\">\n",
              "\n",
              "  <div class=\"colab-df-container\">\n",
              "    <button class=\"colab-df-convert\" onclick=\"convertToInteractive('df-5c0eecf4-82fb-4158-9915-40cfc9cc6ae1')\"\n",
              "            title=\"Convert this dataframe to an interactive table.\"\n",
              "            style=\"display:none;\">\n",
              "\n",
              "  <svg xmlns=\"http://www.w3.org/2000/svg\" height=\"24px\" viewBox=\"0 -960 960 960\">\n",
              "    <path d=\"M120-120v-720h720v720H120Zm60-500h600v-160H180v160Zm220 220h160v-160H400v160Zm0 220h160v-160H400v160ZM180-400h160v-160H180v160Zm440 0h160v-160H620v160ZM180-180h160v-160H180v160Zm440 0h160v-160H620v160Z\"/>\n",
              "  </svg>\n",
              "    </button>\n",
              "\n",
              "  <style>\n",
              "    .colab-df-container {\n",
              "      display:flex;\n",
              "      gap: 12px;\n",
              "    }\n",
              "\n",
              "    .colab-df-convert {\n",
              "      background-color: #E8F0FE;\n",
              "      border: none;\n",
              "      border-radius: 50%;\n",
              "      cursor: pointer;\n",
              "      display: none;\n",
              "      fill: #1967D2;\n",
              "      height: 32px;\n",
              "      padding: 0 0 0 0;\n",
              "      width: 32px;\n",
              "    }\n",
              "\n",
              "    .colab-df-convert:hover {\n",
              "      background-color: #E2EBFA;\n",
              "      box-shadow: 0px 1px 2px rgba(60, 64, 67, 0.3), 0px 1px 3px 1px rgba(60, 64, 67, 0.15);\n",
              "      fill: #174EA6;\n",
              "    }\n",
              "\n",
              "    .colab-df-buttons div {\n",
              "      margin-bottom: 4px;\n",
              "    }\n",
              "\n",
              "    [theme=dark] .colab-df-convert {\n",
              "      background-color: #3B4455;\n",
              "      fill: #D2E3FC;\n",
              "    }\n",
              "\n",
              "    [theme=dark] .colab-df-convert:hover {\n",
              "      background-color: #434B5C;\n",
              "      box-shadow: 0px 1px 3px 1px rgba(0, 0, 0, 0.15);\n",
              "      filter: drop-shadow(0px 1px 2px rgba(0, 0, 0, 0.3));\n",
              "      fill: #FFFFFF;\n",
              "    }\n",
              "  </style>\n",
              "\n",
              "    <script>\n",
              "      const buttonEl =\n",
              "        document.querySelector('#df-5c0eecf4-82fb-4158-9915-40cfc9cc6ae1 button.colab-df-convert');\n",
              "      buttonEl.style.display =\n",
              "        google.colab.kernel.accessAllowed ? 'block' : 'none';\n",
              "\n",
              "      async function convertToInteractive(key) {\n",
              "        const element = document.querySelector('#df-5c0eecf4-82fb-4158-9915-40cfc9cc6ae1');\n",
              "        const dataTable =\n",
              "          await google.colab.kernel.invokeFunction('convertToInteractive',\n",
              "                                                    [key], {});\n",
              "        if (!dataTable) return;\n",
              "\n",
              "        const docLinkHtml = 'Like what you see? Visit the ' +\n",
              "          '<a target=\"_blank\" href=https://colab.research.google.com/notebooks/data_table.ipynb>data table notebook</a>'\n",
              "          + ' to learn more about interactive tables.';\n",
              "        element.innerHTML = '';\n",
              "        dataTable['output_type'] = 'display_data';\n",
              "        await google.colab.output.renderOutput(dataTable, element);\n",
              "        const docLink = document.createElement('div');\n",
              "        docLink.innerHTML = docLinkHtml;\n",
              "        element.appendChild(docLink);\n",
              "      }\n",
              "    </script>\n",
              "  </div>\n",
              "\n",
              "\n",
              "<div id=\"df-48cc753e-cebd-47f4-a127-08b6c2d4c47b\">\n",
              "  <button class=\"colab-df-quickchart\" onclick=\"quickchart('df-48cc753e-cebd-47f4-a127-08b6c2d4c47b')\"\n",
              "            title=\"Suggest charts\"\n",
              "            style=\"display:none;\">\n",
              "\n",
              "<svg xmlns=\"http://www.w3.org/2000/svg\" height=\"24px\"viewBox=\"0 0 24 24\"\n",
              "     width=\"24px\">\n",
              "    <g>\n",
              "        <path d=\"M19 3H5c-1.1 0-2 .9-2 2v14c0 1.1.9 2 2 2h14c1.1 0 2-.9 2-2V5c0-1.1-.9-2-2-2zM9 17H7v-7h2v7zm4 0h-2V7h2v10zm4 0h-2v-4h2v4z\"/>\n",
              "    </g>\n",
              "</svg>\n",
              "  </button>\n",
              "\n",
              "<style>\n",
              "  .colab-df-quickchart {\n",
              "      --bg-color: #E8F0FE;\n",
              "      --fill-color: #1967D2;\n",
              "      --hover-bg-color: #E2EBFA;\n",
              "      --hover-fill-color: #174EA6;\n",
              "      --disabled-fill-color: #AAA;\n",
              "      --disabled-bg-color: #DDD;\n",
              "  }\n",
              "\n",
              "  [theme=dark] .colab-df-quickchart {\n",
              "      --bg-color: #3B4455;\n",
              "      --fill-color: #D2E3FC;\n",
              "      --hover-bg-color: #434B5C;\n",
              "      --hover-fill-color: #FFFFFF;\n",
              "      --disabled-bg-color: #3B4455;\n",
              "      --disabled-fill-color: #666;\n",
              "  }\n",
              "\n",
              "  .colab-df-quickchart {\n",
              "    background-color: var(--bg-color);\n",
              "    border: none;\n",
              "    border-radius: 50%;\n",
              "    cursor: pointer;\n",
              "    display: none;\n",
              "    fill: var(--fill-color);\n",
              "    height: 32px;\n",
              "    padding: 0;\n",
              "    width: 32px;\n",
              "  }\n",
              "\n",
              "  .colab-df-quickchart:hover {\n",
              "    background-color: var(--hover-bg-color);\n",
              "    box-shadow: 0 1px 2px rgba(60, 64, 67, 0.3), 0 1px 3px 1px rgba(60, 64, 67, 0.15);\n",
              "    fill: var(--button-hover-fill-color);\n",
              "  }\n",
              "\n",
              "  .colab-df-quickchart-complete:disabled,\n",
              "  .colab-df-quickchart-complete:disabled:hover {\n",
              "    background-color: var(--disabled-bg-color);\n",
              "    fill: var(--disabled-fill-color);\n",
              "    box-shadow: none;\n",
              "  }\n",
              "\n",
              "  .colab-df-spinner {\n",
              "    border: 2px solid var(--fill-color);\n",
              "    border-color: transparent;\n",
              "    border-bottom-color: var(--fill-color);\n",
              "    animation:\n",
              "      spin 1s steps(1) infinite;\n",
              "  }\n",
              "\n",
              "  @keyframes spin {\n",
              "    0% {\n",
              "      border-color: transparent;\n",
              "      border-bottom-color: var(--fill-color);\n",
              "      border-left-color: var(--fill-color);\n",
              "    }\n",
              "    20% {\n",
              "      border-color: transparent;\n",
              "      border-left-color: var(--fill-color);\n",
              "      border-top-color: var(--fill-color);\n",
              "    }\n",
              "    30% {\n",
              "      border-color: transparent;\n",
              "      border-left-color: var(--fill-color);\n",
              "      border-top-color: var(--fill-color);\n",
              "      border-right-color: var(--fill-color);\n",
              "    }\n",
              "    40% {\n",
              "      border-color: transparent;\n",
              "      border-right-color: var(--fill-color);\n",
              "      border-top-color: var(--fill-color);\n",
              "    }\n",
              "    60% {\n",
              "      border-color: transparent;\n",
              "      border-right-color: var(--fill-color);\n",
              "    }\n",
              "    80% {\n",
              "      border-color: transparent;\n",
              "      border-right-color: var(--fill-color);\n",
              "      border-bottom-color: var(--fill-color);\n",
              "    }\n",
              "    90% {\n",
              "      border-color: transparent;\n",
              "      border-bottom-color: var(--fill-color);\n",
              "    }\n",
              "  }\n",
              "</style>\n",
              "\n",
              "  <script>\n",
              "    async function quickchart(key) {\n",
              "      const quickchartButtonEl =\n",
              "        document.querySelector('#' + key + ' button');\n",
              "      quickchartButtonEl.disabled = true;  // To prevent multiple clicks.\n",
              "      quickchartButtonEl.classList.add('colab-df-spinner');\n",
              "      try {\n",
              "        const charts = await google.colab.kernel.invokeFunction(\n",
              "            'suggestCharts', [key], {});\n",
              "      } catch (error) {\n",
              "        console.error('Error during call to suggestCharts:', error);\n",
              "      }\n",
              "      quickchartButtonEl.classList.remove('colab-df-spinner');\n",
              "      quickchartButtonEl.classList.add('colab-df-quickchart-complete');\n",
              "    }\n",
              "    (() => {\n",
              "      let quickchartButtonEl =\n",
              "        document.querySelector('#df-48cc753e-cebd-47f4-a127-08b6c2d4c47b button');\n",
              "      quickchartButtonEl.style.display =\n",
              "        google.colab.kernel.accessAllowed ? 'block' : 'none';\n",
              "    })();\n",
              "  </script>\n",
              "</div>\n",
              "\n",
              "    </div>\n",
              "  </div>\n"
            ],
            "application/vnd.google.colaboratory.intrinsic+json": {
              "type": "dataframe",
              "variable_name": "sales",
              "summary": "{\n  \"name\": \"sales\",\n  \"rows\": 1000,\n  \"fields\": [\n    {\n      \"column\": \"Order ID\",\n      \"properties\": {\n        \"dtype\": \"number\",\n        \"std\": 2.857100040288673,\n        \"min\": 101.0,\n        \"max\": 110.0,\n        \"num_unique_values\": 10,\n        \"samples\": [\n          109.0,\n          102.0,\n          106.0\n        ],\n        \"semantic_type\": \"\",\n        \"description\": \"\"\n      }\n    },\n    {\n      \"column\": \"Product\",\n      \"properties\": {\n        \"dtype\": \"category\",\n        \"num_unique_values\": 10,\n        \"samples\": [\n          \"Speaker\",\n          \"Smartphone\",\n          \"Mouse\"\n        ],\n        \"semantic_type\": \"\",\n        \"description\": \"\"\n      }\n    },\n    {\n      \"column\": \"Category\",\n      \"properties\": {\n        \"dtype\": \"category\",\n        \"num_unique_values\": 2,\n        \"samples\": [\n          \"Accessories\",\n          \"Electronics\"\n        ],\n        \"semantic_type\": \"\",\n        \"description\": \"\"\n      }\n    },\n    {\n      \"column\": \"Price\",\n      \"properties\": {\n        \"dtype\": \"number\",\n        \"std\": 946.1447094923773,\n        \"min\": 19.99,\n        \"max\": 12005.0,\n        \"num_unique_values\": 11,\n        \"samples\": [\n          19.99,\n          1200.5\n        ],\n        \"semantic_type\": \"\",\n        \"description\": \"\"\n      }\n    },\n    {\n      \"column\": \"Quantity\",\n      \"properties\": {\n        \"dtype\": \"number\",\n        \"std\": 11.582182991448132,\n        \"min\": 1.0,\n        \"max\": 150.0,\n        \"num_unique_values\": 10,\n        \"samples\": [\n          15.0,\n          5.0\n        ],\n        \"semantic_type\": \"\",\n        \"description\": \"\"\n      }\n    },\n    {\n      \"column\": \"Date\",\n      \"properties\": {\n        \"dtype\": \"object\",\n        \"num_unique_values\": 10,\n        \"samples\": [\n          \"2023-08-15\",\n          \"2023-02-20\"\n        ],\n        \"semantic_type\": \"\",\n        \"description\": \"\"\n      }\n    },\n    {\n      \"column\": \"City\",\n      \"properties\": {\n        \"dtype\": \"category\",\n        \"num_unique_values\": 10,\n        \"samples\": [\n          \"San Jose\",\n          \"Los Angeles\"\n        ],\n        \"semantic_type\": \"\",\n        \"description\": \"\"\n      }\n    },\n    {\n      \"column\": \"Payment Method\",\n      \"properties\": {\n        \"dtype\": \"category\",\n        \"num_unique_values\": 3,\n        \"samples\": [\n          \"Credit Card\",\n          \"PayPal\"\n        ],\n        \"semantic_type\": \"\",\n        \"description\": \"\"\n      }\n    }\n  ]\n}"
            }
          },
          "metadata": {},
          "execution_count": 7
        }
      ],
      "source": [
        "import pandas as pd\n",
        "# Resposta\n",
        "sales = pd.read_csv('/content/sales_data.csv')\n",
        "sales.head()"
      ]
    },
    {
      "cell_type": "markdown",
      "id": "99e94a72",
      "metadata": {
        "id": "99e94a72"
      },
      "source": [
        "### Exercício 2: Exibir informações gerais do DataFrame, incluindo tipo de dados e contagem de valores não nulos."
      ]
    },
    {
      "cell_type": "markdown",
      "id": "a9edcda1",
      "metadata": {
        "id": "a9edcda1"
      },
      "source": [
        "**Dica: Use `info()`.**"
      ]
    },
    {
      "cell_type": "code",
      "execution_count": null,
      "id": "5bc7ed3d",
      "metadata": {
        "id": "5bc7ed3d",
        "colab": {
          "base_uri": "https://localhost:8080/"
        },
        "outputId": "a2b2619d-6add-4eea-fac4-b0d69613fad2"
      },
      "outputs": [
        {
          "output_type": "stream",
          "name": "stdout",
          "text": [
            "<class 'pandas.core.frame.DataFrame'>\n",
            "RangeIndex: 1000 entries, 0 to 999\n",
            "Data columns (total 8 columns):\n",
            " #   Column          Non-Null Count  Dtype  \n",
            "---  ------          --------------  -----  \n",
            " 0   Order ID        900 non-null    float64\n",
            " 1   Product         900 non-null    object \n",
            " 2   Category        900 non-null    object \n",
            " 3   Price           900 non-null    float64\n",
            " 4   Quantity        902 non-null    float64\n",
            " 5   Date            900 non-null    object \n",
            " 6   City            900 non-null    object \n",
            " 7   Payment Method  900 non-null    object \n",
            "dtypes: float64(3), object(5)\n",
            "memory usage: 62.6+ KB\n"
          ]
        }
      ],
      "source": [
        "# Resposta\n",
        "sales.info()"
      ]
    },
    {
      "cell_type": "markdown",
      "id": "2a800b4b",
      "metadata": {
        "id": "2a800b4b"
      },
      "source": [
        "### Exercício 3: Calcular a média de uma coluna numérica."
      ]
    },
    {
      "cell_type": "markdown",
      "id": "186c3afa",
      "metadata": {
        "id": "186c3afa"
      },
      "source": [
        "**Dica: Use `mean()` na coluna desejada.**"
      ]
    },
    {
      "cell_type": "code",
      "execution_count": null,
      "id": "9cf0337c",
      "metadata": {
        "id": "9cf0337c",
        "colab": {
          "base_uri": "https://localhost:8080/"
        },
        "outputId": "131d1c46-0984-45bc-a051-6653c0b0fdff"
      },
      "outputs": [
        {
          "output_type": "execute_result",
          "data": {
            "text/plain": [
              "373.5224555555555"
            ]
          },
          "metadata": {},
          "execution_count": 9
        }
      ],
      "source": [
        "# Resposta\n",
        "sales['Price'].mean()"
      ]
    },
    {
      "cell_type": "markdown",
      "id": "258c4b84",
      "metadata": {
        "id": "258c4b84"
      },
      "source": [
        "### Exercício 4: Selecionar linhas com base em uma condição em uma coluna."
      ]
    },
    {
      "cell_type": "markdown",
      "id": "4ffd54e2",
      "metadata": {
        "id": "4ffd54e2"
      },
      "source": [
        "**Dica: Utilize operadores lógicos, como `df[df['coluna'] > valor]`.**"
      ]
    },
    {
      "cell_type": "code",
      "execution_count": null,
      "id": "e1425fb3",
      "metadata": {
        "id": "e1425fb3",
        "colab": {
          "base_uri": "https://localhost:8080/",
          "height": 424
        },
        "outputId": "fd827c92-0132-4818-b2ed-be54a80f2dde"
      },
      "outputs": [
        {
          "output_type": "execute_result",
          "data": {
            "text/plain": [
              "     Order ID     Product     Category     Price  Quantity        Date  \\\n",
              "0       101.0      Laptop  Electronics   1200.50       2.0  2023-01-15   \n",
              "1       102.0  Smartphone  Electronics    800.99       5.0  2023-02-20   \n",
              "10      101.0      Laptop  Electronics   1200.50       2.0  2023-01-15   \n",
              "11        NaN  Smartphone          NaN    800.99       NaN  2023-02-20   \n",
              "20        NaN      Laptop  Electronics   1200.50       2.0  2023-01-15   \n",
              "..        ...         ...          ...       ...       ...         ...   \n",
              "980     101.0      Laptop  Electronics   1200.50       2.0  2023-01-15   \n",
              "981     102.0  Smartphone  Electronics    800.99       5.0  2023-02-20   \n",
              "990     101.0      Laptop  Electronics   1200.50       2.0  2023-01-15   \n",
              "991     102.0  Smartphone  Electronics    800.99       5.0  2023-02-20   \n",
              "993     104.0     Monitor  Electronics  12005.00       4.0  2023-03-18   \n",
              "\n",
              "            City Payment Method  \n",
              "0       New York    Credit Card  \n",
              "1    Los Angeles         PayPal  \n",
              "10      New York    Credit Card  \n",
              "11   Los Angeles         PayPal  \n",
              "20      New York    Credit Card  \n",
              "..           ...            ...  \n",
              "980     New York    Credit Card  \n",
              "981  Los Angeles            NaN  \n",
              "990     New York    Credit Card  \n",
              "991  Los Angeles         PayPal  \n",
              "993      Houston     Debit Card  \n",
              "\n",
              "[187 rows x 8 columns]"
            ],
            "text/html": [
              "\n",
              "  <div id=\"df-6e5c5bd9-9bba-4aab-ba40-8da2db570f53\" class=\"colab-df-container\">\n",
              "    <div>\n",
              "<style scoped>\n",
              "    .dataframe tbody tr th:only-of-type {\n",
              "        vertical-align: middle;\n",
              "    }\n",
              "\n",
              "    .dataframe tbody tr th {\n",
              "        vertical-align: top;\n",
              "    }\n",
              "\n",
              "    .dataframe thead th {\n",
              "        text-align: right;\n",
              "    }\n",
              "</style>\n",
              "<table border=\"1\" class=\"dataframe\">\n",
              "  <thead>\n",
              "    <tr style=\"text-align: right;\">\n",
              "      <th></th>\n",
              "      <th>Order ID</th>\n",
              "      <th>Product</th>\n",
              "      <th>Category</th>\n",
              "      <th>Price</th>\n",
              "      <th>Quantity</th>\n",
              "      <th>Date</th>\n",
              "      <th>City</th>\n",
              "      <th>Payment Method</th>\n",
              "    </tr>\n",
              "  </thead>\n",
              "  <tbody>\n",
              "    <tr>\n",
              "      <th>0</th>\n",
              "      <td>101.0</td>\n",
              "      <td>Laptop</td>\n",
              "      <td>Electronics</td>\n",
              "      <td>1200.50</td>\n",
              "      <td>2.0</td>\n",
              "      <td>2023-01-15</td>\n",
              "      <td>New York</td>\n",
              "      <td>Credit Card</td>\n",
              "    </tr>\n",
              "    <tr>\n",
              "      <th>1</th>\n",
              "      <td>102.0</td>\n",
              "      <td>Smartphone</td>\n",
              "      <td>Electronics</td>\n",
              "      <td>800.99</td>\n",
              "      <td>5.0</td>\n",
              "      <td>2023-02-20</td>\n",
              "      <td>Los Angeles</td>\n",
              "      <td>PayPal</td>\n",
              "    </tr>\n",
              "    <tr>\n",
              "      <th>10</th>\n",
              "      <td>101.0</td>\n",
              "      <td>Laptop</td>\n",
              "      <td>Electronics</td>\n",
              "      <td>1200.50</td>\n",
              "      <td>2.0</td>\n",
              "      <td>2023-01-15</td>\n",
              "      <td>New York</td>\n",
              "      <td>Credit Card</td>\n",
              "    </tr>\n",
              "    <tr>\n",
              "      <th>11</th>\n",
              "      <td>NaN</td>\n",
              "      <td>Smartphone</td>\n",
              "      <td>NaN</td>\n",
              "      <td>800.99</td>\n",
              "      <td>NaN</td>\n",
              "      <td>2023-02-20</td>\n",
              "      <td>Los Angeles</td>\n",
              "      <td>PayPal</td>\n",
              "    </tr>\n",
              "    <tr>\n",
              "      <th>20</th>\n",
              "      <td>NaN</td>\n",
              "      <td>Laptop</td>\n",
              "      <td>Electronics</td>\n",
              "      <td>1200.50</td>\n",
              "      <td>2.0</td>\n",
              "      <td>2023-01-15</td>\n",
              "      <td>New York</td>\n",
              "      <td>Credit Card</td>\n",
              "    </tr>\n",
              "    <tr>\n",
              "      <th>...</th>\n",
              "      <td>...</td>\n",
              "      <td>...</td>\n",
              "      <td>...</td>\n",
              "      <td>...</td>\n",
              "      <td>...</td>\n",
              "      <td>...</td>\n",
              "      <td>...</td>\n",
              "      <td>...</td>\n",
              "    </tr>\n",
              "    <tr>\n",
              "      <th>980</th>\n",
              "      <td>101.0</td>\n",
              "      <td>Laptop</td>\n",
              "      <td>Electronics</td>\n",
              "      <td>1200.50</td>\n",
              "      <td>2.0</td>\n",
              "      <td>2023-01-15</td>\n",
              "      <td>New York</td>\n",
              "      <td>Credit Card</td>\n",
              "    </tr>\n",
              "    <tr>\n",
              "      <th>981</th>\n",
              "      <td>102.0</td>\n",
              "      <td>Smartphone</td>\n",
              "      <td>Electronics</td>\n",
              "      <td>800.99</td>\n",
              "      <td>5.0</td>\n",
              "      <td>2023-02-20</td>\n",
              "      <td>Los Angeles</td>\n",
              "      <td>NaN</td>\n",
              "    </tr>\n",
              "    <tr>\n",
              "      <th>990</th>\n",
              "      <td>101.0</td>\n",
              "      <td>Laptop</td>\n",
              "      <td>Electronics</td>\n",
              "      <td>1200.50</td>\n",
              "      <td>2.0</td>\n",
              "      <td>2023-01-15</td>\n",
              "      <td>New York</td>\n",
              "      <td>Credit Card</td>\n",
              "    </tr>\n",
              "    <tr>\n",
              "      <th>991</th>\n",
              "      <td>102.0</td>\n",
              "      <td>Smartphone</td>\n",
              "      <td>Electronics</td>\n",
              "      <td>800.99</td>\n",
              "      <td>5.0</td>\n",
              "      <td>2023-02-20</td>\n",
              "      <td>Los Angeles</td>\n",
              "      <td>PayPal</td>\n",
              "    </tr>\n",
              "    <tr>\n",
              "      <th>993</th>\n",
              "      <td>104.0</td>\n",
              "      <td>Monitor</td>\n",
              "      <td>Electronics</td>\n",
              "      <td>12005.00</td>\n",
              "      <td>4.0</td>\n",
              "      <td>2023-03-18</td>\n",
              "      <td>Houston</td>\n",
              "      <td>Debit Card</td>\n",
              "    </tr>\n",
              "  </tbody>\n",
              "</table>\n",
              "<p>187 rows × 8 columns</p>\n",
              "</div>\n",
              "    <div class=\"colab-df-buttons\">\n",
              "\n",
              "  <div class=\"colab-df-container\">\n",
              "    <button class=\"colab-df-convert\" onclick=\"convertToInteractive('df-6e5c5bd9-9bba-4aab-ba40-8da2db570f53')\"\n",
              "            title=\"Convert this dataframe to an interactive table.\"\n",
              "            style=\"display:none;\">\n",
              "\n",
              "  <svg xmlns=\"http://www.w3.org/2000/svg\" height=\"24px\" viewBox=\"0 -960 960 960\">\n",
              "    <path d=\"M120-120v-720h720v720H120Zm60-500h600v-160H180v160Zm220 220h160v-160H400v160Zm0 220h160v-160H400v160ZM180-400h160v-160H180v160Zm440 0h160v-160H620v160ZM180-180h160v-160H180v160Zm440 0h160v-160H620v160Z\"/>\n",
              "  </svg>\n",
              "    </button>\n",
              "\n",
              "  <style>\n",
              "    .colab-df-container {\n",
              "      display:flex;\n",
              "      gap: 12px;\n",
              "    }\n",
              "\n",
              "    .colab-df-convert {\n",
              "      background-color: #E8F0FE;\n",
              "      border: none;\n",
              "      border-radius: 50%;\n",
              "      cursor: pointer;\n",
              "      display: none;\n",
              "      fill: #1967D2;\n",
              "      height: 32px;\n",
              "      padding: 0 0 0 0;\n",
              "      width: 32px;\n",
              "    }\n",
              "\n",
              "    .colab-df-convert:hover {\n",
              "      background-color: #E2EBFA;\n",
              "      box-shadow: 0px 1px 2px rgba(60, 64, 67, 0.3), 0px 1px 3px 1px rgba(60, 64, 67, 0.15);\n",
              "      fill: #174EA6;\n",
              "    }\n",
              "\n",
              "    .colab-df-buttons div {\n",
              "      margin-bottom: 4px;\n",
              "    }\n",
              "\n",
              "    [theme=dark] .colab-df-convert {\n",
              "      background-color: #3B4455;\n",
              "      fill: #D2E3FC;\n",
              "    }\n",
              "\n",
              "    [theme=dark] .colab-df-convert:hover {\n",
              "      background-color: #434B5C;\n",
              "      box-shadow: 0px 1px 3px 1px rgba(0, 0, 0, 0.15);\n",
              "      filter: drop-shadow(0px 1px 2px rgba(0, 0, 0, 0.3));\n",
              "      fill: #FFFFFF;\n",
              "    }\n",
              "  </style>\n",
              "\n",
              "    <script>\n",
              "      const buttonEl =\n",
              "        document.querySelector('#df-6e5c5bd9-9bba-4aab-ba40-8da2db570f53 button.colab-df-convert');\n",
              "      buttonEl.style.display =\n",
              "        google.colab.kernel.accessAllowed ? 'block' : 'none';\n",
              "\n",
              "      async function convertToInteractive(key) {\n",
              "        const element = document.querySelector('#df-6e5c5bd9-9bba-4aab-ba40-8da2db570f53');\n",
              "        const dataTable =\n",
              "          await google.colab.kernel.invokeFunction('convertToInteractive',\n",
              "                                                    [key], {});\n",
              "        if (!dataTable) return;\n",
              "\n",
              "        const docLinkHtml = 'Like what you see? Visit the ' +\n",
              "          '<a target=\"_blank\" href=https://colab.research.google.com/notebooks/data_table.ipynb>data table notebook</a>'\n",
              "          + ' to learn more about interactive tables.';\n",
              "        element.innerHTML = '';\n",
              "        dataTable['output_type'] = 'display_data';\n",
              "        await google.colab.output.renderOutput(dataTable, element);\n",
              "        const docLink = document.createElement('div');\n",
              "        docLink.innerHTML = docLinkHtml;\n",
              "        element.appendChild(docLink);\n",
              "      }\n",
              "    </script>\n",
              "  </div>\n",
              "\n",
              "\n",
              "<div id=\"df-a99dfd0d-28d1-4e35-9323-01edb5db6dc7\">\n",
              "  <button class=\"colab-df-quickchart\" onclick=\"quickchart('df-a99dfd0d-28d1-4e35-9323-01edb5db6dc7')\"\n",
              "            title=\"Suggest charts\"\n",
              "            style=\"display:none;\">\n",
              "\n",
              "<svg xmlns=\"http://www.w3.org/2000/svg\" height=\"24px\"viewBox=\"0 0 24 24\"\n",
              "     width=\"24px\">\n",
              "    <g>\n",
              "        <path d=\"M19 3H5c-1.1 0-2 .9-2 2v14c0 1.1.9 2 2 2h14c1.1 0 2-.9 2-2V5c0-1.1-.9-2-2-2zM9 17H7v-7h2v7zm4 0h-2V7h2v10zm4 0h-2v-4h2v4z\"/>\n",
              "    </g>\n",
              "</svg>\n",
              "  </button>\n",
              "\n",
              "<style>\n",
              "  .colab-df-quickchart {\n",
              "      --bg-color: #E8F0FE;\n",
              "      --fill-color: #1967D2;\n",
              "      --hover-bg-color: #E2EBFA;\n",
              "      --hover-fill-color: #174EA6;\n",
              "      --disabled-fill-color: #AAA;\n",
              "      --disabled-bg-color: #DDD;\n",
              "  }\n",
              "\n",
              "  [theme=dark] .colab-df-quickchart {\n",
              "      --bg-color: #3B4455;\n",
              "      --fill-color: #D2E3FC;\n",
              "      --hover-bg-color: #434B5C;\n",
              "      --hover-fill-color: #FFFFFF;\n",
              "      --disabled-bg-color: #3B4455;\n",
              "      --disabled-fill-color: #666;\n",
              "  }\n",
              "\n",
              "  .colab-df-quickchart {\n",
              "    background-color: var(--bg-color);\n",
              "    border: none;\n",
              "    border-radius: 50%;\n",
              "    cursor: pointer;\n",
              "    display: none;\n",
              "    fill: var(--fill-color);\n",
              "    height: 32px;\n",
              "    padding: 0;\n",
              "    width: 32px;\n",
              "  }\n",
              "\n",
              "  .colab-df-quickchart:hover {\n",
              "    background-color: var(--hover-bg-color);\n",
              "    box-shadow: 0 1px 2px rgba(60, 64, 67, 0.3), 0 1px 3px 1px rgba(60, 64, 67, 0.15);\n",
              "    fill: var(--button-hover-fill-color);\n",
              "  }\n",
              "\n",
              "  .colab-df-quickchart-complete:disabled,\n",
              "  .colab-df-quickchart-complete:disabled:hover {\n",
              "    background-color: var(--disabled-bg-color);\n",
              "    fill: var(--disabled-fill-color);\n",
              "    box-shadow: none;\n",
              "  }\n",
              "\n",
              "  .colab-df-spinner {\n",
              "    border: 2px solid var(--fill-color);\n",
              "    border-color: transparent;\n",
              "    border-bottom-color: var(--fill-color);\n",
              "    animation:\n",
              "      spin 1s steps(1) infinite;\n",
              "  }\n",
              "\n",
              "  @keyframes spin {\n",
              "    0% {\n",
              "      border-color: transparent;\n",
              "      border-bottom-color: var(--fill-color);\n",
              "      border-left-color: var(--fill-color);\n",
              "    }\n",
              "    20% {\n",
              "      border-color: transparent;\n",
              "      border-left-color: var(--fill-color);\n",
              "      border-top-color: var(--fill-color);\n",
              "    }\n",
              "    30% {\n",
              "      border-color: transparent;\n",
              "      border-left-color: var(--fill-color);\n",
              "      border-top-color: var(--fill-color);\n",
              "      border-right-color: var(--fill-color);\n",
              "    }\n",
              "    40% {\n",
              "      border-color: transparent;\n",
              "      border-right-color: var(--fill-color);\n",
              "      border-top-color: var(--fill-color);\n",
              "    }\n",
              "    60% {\n",
              "      border-color: transparent;\n",
              "      border-right-color: var(--fill-color);\n",
              "    }\n",
              "    80% {\n",
              "      border-color: transparent;\n",
              "      border-right-color: var(--fill-color);\n",
              "      border-bottom-color: var(--fill-color);\n",
              "    }\n",
              "    90% {\n",
              "      border-color: transparent;\n",
              "      border-bottom-color: var(--fill-color);\n",
              "    }\n",
              "  }\n",
              "</style>\n",
              "\n",
              "  <script>\n",
              "    async function quickchart(key) {\n",
              "      const quickchartButtonEl =\n",
              "        document.querySelector('#' + key + ' button');\n",
              "      quickchartButtonEl.disabled = true;  // To prevent multiple clicks.\n",
              "      quickchartButtonEl.classList.add('colab-df-spinner');\n",
              "      try {\n",
              "        const charts = await google.colab.kernel.invokeFunction(\n",
              "            'suggestCharts', [key], {});\n",
              "      } catch (error) {\n",
              "        console.error('Error during call to suggestCharts:', error);\n",
              "      }\n",
              "      quickchartButtonEl.classList.remove('colab-df-spinner');\n",
              "      quickchartButtonEl.classList.add('colab-df-quickchart-complete');\n",
              "    }\n",
              "    (() => {\n",
              "      let quickchartButtonEl =\n",
              "        document.querySelector('#df-a99dfd0d-28d1-4e35-9323-01edb5db6dc7 button');\n",
              "      quickchartButtonEl.style.display =\n",
              "        google.colab.kernel.accessAllowed ? 'block' : 'none';\n",
              "    })();\n",
              "  </script>\n",
              "</div>\n",
              "\n",
              "    </div>\n",
              "  </div>\n"
            ],
            "application/vnd.google.colaboratory.intrinsic+json": {
              "type": "dataframe",
              "summary": "{\n  \"name\": \"sales[sales['Price'] > 300]\",\n  \"rows\": 187,\n  \"fields\": [\n    {\n      \"column\": \"Order ID\",\n      \"properties\": {\n        \"dtype\": \"number\",\n        \"std\": 1.0333363099073956,\n        \"min\": 101.0,\n        \"max\": 110.0,\n        \"num_unique_values\": 6,\n        \"samples\": [\n          101.0,\n          102.0,\n          104.0\n        ],\n        \"semantic_type\": \"\",\n        \"description\": \"\"\n      }\n    },\n    {\n      \"column\": \"Product\",\n      \"properties\": {\n        \"dtype\": \"category\",\n        \"num_unique_values\": 6,\n        \"samples\": [\n          \"Laptop\",\n          \"Smartphone\",\n          \"Printer\"\n        ],\n        \"semantic_type\": \"\",\n        \"description\": \"\"\n      }\n    },\n    {\n      \"column\": \"Category\",\n      \"properties\": {\n        \"dtype\": \"category\",\n        \"num_unique_values\": 2,\n        \"samples\": [\n          \"Accessories\",\n          \"Electronics\"\n        ],\n        \"semantic_type\": \"\",\n        \"description\": \"\"\n      }\n    },\n    {\n      \"column\": \"Price\",\n      \"properties\": {\n        \"dtype\": \"number\",\n        \"std\": 1790.514699576329,\n        \"min\": 800.99,\n        \"max\": 12005.0,\n        \"num_unique_values\": 3,\n        \"samples\": [\n          1200.5,\n          800.99\n        ],\n        \"semantic_type\": \"\",\n        \"description\": \"\"\n      }\n    },\n    {\n      \"column\": \"Quantity\",\n      \"properties\": {\n        \"dtype\": \"number\",\n        \"std\": 11.40006129706249,\n        \"min\": 2.0,\n        \"max\": 150.0,\n        \"num_unique_values\": 6,\n        \"samples\": [\n          2.0,\n          5.0\n        ],\n        \"semantic_type\": \"\",\n        \"description\": \"\"\n      }\n    },\n    {\n      \"column\": \"Date\",\n      \"properties\": {\n        \"dtype\": \"object\",\n        \"num_unique_values\": 6,\n        \"samples\": [\n          \"2023-01-15\",\n          \"2023-02-20\"\n        ],\n        \"semantic_type\": \"\",\n        \"description\": \"\"\n      }\n    },\n    {\n      \"column\": \"City\",\n      \"properties\": {\n        \"dtype\": \"category\",\n        \"num_unique_values\": 6,\n        \"samples\": [\n          \"New York\",\n          \"Los Angeles\"\n        ],\n        \"semantic_type\": \"\",\n        \"description\": \"\"\n      }\n    },\n    {\n      \"column\": \"Payment Method\",\n      \"properties\": {\n        \"dtype\": \"category\",\n        \"num_unique_values\": 3,\n        \"samples\": [\n          \"Credit Card\",\n          \"PayPal\"\n        ],\n        \"semantic_type\": \"\",\n        \"description\": \"\"\n      }\n    }\n  ]\n}"
            }
          },
          "metadata": {},
          "execution_count": 10
        }
      ],
      "source": [
        "# Resposta\n",
        "sales[sales['Price'] > 300]"
      ]
    },
    {
      "cell_type": "markdown",
      "id": "a436d4f6",
      "metadata": {
        "id": "a436d4f6"
      },
      "source": [
        "### Exercício 5: Contar valores únicos em uma coluna."
      ]
    },
    {
      "cell_type": "markdown",
      "id": "2324594a",
      "metadata": {
        "id": "2324594a"
      },
      "source": [
        "**Dica: Use `value_counts()` na coluna.**"
      ]
    },
    {
      "cell_type": "code",
      "execution_count": null,
      "id": "c59b0b87",
      "metadata": {
        "id": "c59b0b87",
        "colab": {
          "base_uri": "https://localhost:8080/",
          "height": 178
        },
        "outputId": "ee730afb-32c1-4780-c3ec-a25a60a683d2"
      },
      "outputs": [
        {
          "output_type": "execute_result",
          "data": {
            "text/plain": [
              "Category\n",
              "Electronics    542\n",
              "Accessories    358\n",
              "Name: count, dtype: int64"
            ],
            "text/html": [
              "<div>\n",
              "<style scoped>\n",
              "    .dataframe tbody tr th:only-of-type {\n",
              "        vertical-align: middle;\n",
              "    }\n",
              "\n",
              "    .dataframe tbody tr th {\n",
              "        vertical-align: top;\n",
              "    }\n",
              "\n",
              "    .dataframe thead th {\n",
              "        text-align: right;\n",
              "    }\n",
              "</style>\n",
              "<table border=\"1\" class=\"dataframe\">\n",
              "  <thead>\n",
              "    <tr style=\"text-align: right;\">\n",
              "      <th></th>\n",
              "      <th>count</th>\n",
              "    </tr>\n",
              "    <tr>\n",
              "      <th>Category</th>\n",
              "      <th></th>\n",
              "    </tr>\n",
              "  </thead>\n",
              "  <tbody>\n",
              "    <tr>\n",
              "      <th>Electronics</th>\n",
              "      <td>542</td>\n",
              "    </tr>\n",
              "    <tr>\n",
              "      <th>Accessories</th>\n",
              "      <td>358</td>\n",
              "    </tr>\n",
              "  </tbody>\n",
              "</table>\n",
              "</div><br><label><b>dtype:</b> int64</label>"
            ]
          },
          "metadata": {},
          "execution_count": 11
        }
      ],
      "source": [
        "# Resposta\n",
        "sales.Category.value_counts()"
      ]
    },
    {
      "cell_type": "markdown",
      "id": "1ea754d5",
      "metadata": {
        "id": "1ea754d5"
      },
      "source": [
        "### Exercício 6: Remover colunas desnecessárias do DataFrame."
      ]
    },
    {
      "cell_type": "markdown",
      "id": "1af3f780",
      "metadata": {
        "id": "1af3f780"
      },
      "source": [
        "**Dica: Use `drop()` com o parâmetro `axis=1`.**"
      ]
    },
    {
      "cell_type": "code",
      "execution_count": null,
      "id": "d0bfd763",
      "metadata": {
        "id": "d0bfd763",
        "colab": {
          "base_uri": "https://localhost:8080/",
          "height": 424
        },
        "outputId": "b4ab9f03-a57c-44a8-a213-91d3c320676b"
      },
      "outputs": [
        {
          "output_type": "execute_result",
          "data": {
            "text/plain": [
              "        Product     Category    Price  Quantity        Date          City  \\\n",
              "0        Laptop  Electronics  1200.50       2.0  2023-01-15      New York   \n",
              "1    Smartphone  Electronics   800.99       5.0  2023-02-20   Los Angeles   \n",
              "2        Tablet  Electronics   300.00       3.0  2023-03-05           NaN   \n",
              "3       Monitor  Electronics   150.00       4.0  2023-03-18       Houston   \n",
              "4      Keyboard  Accessories    25.99      10.0  2023-04-10       Phoenix   \n",
              "..          ...          ...      ...       ...         ...           ...   \n",
              "995       Mouse  Accessories    19.99      12.0  2023-05-15  Philadelphia   \n",
              "996  Headphones  Accessories    75.49       7.0  2023-06-25   San Antonio   \n",
              "997         NaN  Electronics   250.00       1.0         NaN           NaN   \n",
              "998     Speaker  Accessories    45.00      15.0  2023-08-15           NaN   \n",
              "999     Printer          NaN      NaN       3.0  2023-09-10      San Jose   \n",
              "\n",
              "    Payment Method  \n",
              "0      Credit Card  \n",
              "1           PayPal  \n",
              "2              NaN  \n",
              "3       Debit Card  \n",
              "4      Credit Card  \n",
              "..             ...  \n",
              "995     Debit Card  \n",
              "996         PayPal  \n",
              "997    Credit Card  \n",
              "998    Credit Card  \n",
              "999         PayPal  \n",
              "\n",
              "[1000 rows x 7 columns]"
            ],
            "text/html": [
              "\n",
              "  <div id=\"df-a65f50ba-2e59-4ade-beb3-224ceba548a9\" class=\"colab-df-container\">\n",
              "    <div>\n",
              "<style scoped>\n",
              "    .dataframe tbody tr th:only-of-type {\n",
              "        vertical-align: middle;\n",
              "    }\n",
              "\n",
              "    .dataframe tbody tr th {\n",
              "        vertical-align: top;\n",
              "    }\n",
              "\n",
              "    .dataframe thead th {\n",
              "        text-align: right;\n",
              "    }\n",
              "</style>\n",
              "<table border=\"1\" class=\"dataframe\">\n",
              "  <thead>\n",
              "    <tr style=\"text-align: right;\">\n",
              "      <th></th>\n",
              "      <th>Product</th>\n",
              "      <th>Category</th>\n",
              "      <th>Price</th>\n",
              "      <th>Quantity</th>\n",
              "      <th>Date</th>\n",
              "      <th>City</th>\n",
              "      <th>Payment Method</th>\n",
              "    </tr>\n",
              "  </thead>\n",
              "  <tbody>\n",
              "    <tr>\n",
              "      <th>0</th>\n",
              "      <td>Laptop</td>\n",
              "      <td>Electronics</td>\n",
              "      <td>1200.50</td>\n",
              "      <td>2.0</td>\n",
              "      <td>2023-01-15</td>\n",
              "      <td>New York</td>\n",
              "      <td>Credit Card</td>\n",
              "    </tr>\n",
              "    <tr>\n",
              "      <th>1</th>\n",
              "      <td>Smartphone</td>\n",
              "      <td>Electronics</td>\n",
              "      <td>800.99</td>\n",
              "      <td>5.0</td>\n",
              "      <td>2023-02-20</td>\n",
              "      <td>Los Angeles</td>\n",
              "      <td>PayPal</td>\n",
              "    </tr>\n",
              "    <tr>\n",
              "      <th>2</th>\n",
              "      <td>Tablet</td>\n",
              "      <td>Electronics</td>\n",
              "      <td>300.00</td>\n",
              "      <td>3.0</td>\n",
              "      <td>2023-03-05</td>\n",
              "      <td>NaN</td>\n",
              "      <td>NaN</td>\n",
              "    </tr>\n",
              "    <tr>\n",
              "      <th>3</th>\n",
              "      <td>Monitor</td>\n",
              "      <td>Electronics</td>\n",
              "      <td>150.00</td>\n",
              "      <td>4.0</td>\n",
              "      <td>2023-03-18</td>\n",
              "      <td>Houston</td>\n",
              "      <td>Debit Card</td>\n",
              "    </tr>\n",
              "    <tr>\n",
              "      <th>4</th>\n",
              "      <td>Keyboard</td>\n",
              "      <td>Accessories</td>\n",
              "      <td>25.99</td>\n",
              "      <td>10.0</td>\n",
              "      <td>2023-04-10</td>\n",
              "      <td>Phoenix</td>\n",
              "      <td>Credit Card</td>\n",
              "    </tr>\n",
              "    <tr>\n",
              "      <th>...</th>\n",
              "      <td>...</td>\n",
              "      <td>...</td>\n",
              "      <td>...</td>\n",
              "      <td>...</td>\n",
              "      <td>...</td>\n",
              "      <td>...</td>\n",
              "      <td>...</td>\n",
              "    </tr>\n",
              "    <tr>\n",
              "      <th>995</th>\n",
              "      <td>Mouse</td>\n",
              "      <td>Accessories</td>\n",
              "      <td>19.99</td>\n",
              "      <td>12.0</td>\n",
              "      <td>2023-05-15</td>\n",
              "      <td>Philadelphia</td>\n",
              "      <td>Debit Card</td>\n",
              "    </tr>\n",
              "    <tr>\n",
              "      <th>996</th>\n",
              "      <td>Headphones</td>\n",
              "      <td>Accessories</td>\n",
              "      <td>75.49</td>\n",
              "      <td>7.0</td>\n",
              "      <td>2023-06-25</td>\n",
              "      <td>San Antonio</td>\n",
              "      <td>PayPal</td>\n",
              "    </tr>\n",
              "    <tr>\n",
              "      <th>997</th>\n",
              "      <td>NaN</td>\n",
              "      <td>Electronics</td>\n",
              "      <td>250.00</td>\n",
              "      <td>1.0</td>\n",
              "      <td>NaN</td>\n",
              "      <td>NaN</td>\n",
              "      <td>Credit Card</td>\n",
              "    </tr>\n",
              "    <tr>\n",
              "      <th>998</th>\n",
              "      <td>Speaker</td>\n",
              "      <td>Accessories</td>\n",
              "      <td>45.00</td>\n",
              "      <td>15.0</td>\n",
              "      <td>2023-08-15</td>\n",
              "      <td>NaN</td>\n",
              "      <td>Credit Card</td>\n",
              "    </tr>\n",
              "    <tr>\n",
              "      <th>999</th>\n",
              "      <td>Printer</td>\n",
              "      <td>NaN</td>\n",
              "      <td>NaN</td>\n",
              "      <td>3.0</td>\n",
              "      <td>2023-09-10</td>\n",
              "      <td>San Jose</td>\n",
              "      <td>PayPal</td>\n",
              "    </tr>\n",
              "  </tbody>\n",
              "</table>\n",
              "<p>1000 rows × 7 columns</p>\n",
              "</div>\n",
              "    <div class=\"colab-df-buttons\">\n",
              "\n",
              "  <div class=\"colab-df-container\">\n",
              "    <button class=\"colab-df-convert\" onclick=\"convertToInteractive('df-a65f50ba-2e59-4ade-beb3-224ceba548a9')\"\n",
              "            title=\"Convert this dataframe to an interactive table.\"\n",
              "            style=\"display:none;\">\n",
              "\n",
              "  <svg xmlns=\"http://www.w3.org/2000/svg\" height=\"24px\" viewBox=\"0 -960 960 960\">\n",
              "    <path d=\"M120-120v-720h720v720H120Zm60-500h600v-160H180v160Zm220 220h160v-160H400v160Zm0 220h160v-160H400v160ZM180-400h160v-160H180v160Zm440 0h160v-160H620v160ZM180-180h160v-160H180v160Zm440 0h160v-160H620v160Z\"/>\n",
              "  </svg>\n",
              "    </button>\n",
              "\n",
              "  <style>\n",
              "    .colab-df-container {\n",
              "      display:flex;\n",
              "      gap: 12px;\n",
              "    }\n",
              "\n",
              "    .colab-df-convert {\n",
              "      background-color: #E8F0FE;\n",
              "      border: none;\n",
              "      border-radius: 50%;\n",
              "      cursor: pointer;\n",
              "      display: none;\n",
              "      fill: #1967D2;\n",
              "      height: 32px;\n",
              "      padding: 0 0 0 0;\n",
              "      width: 32px;\n",
              "    }\n",
              "\n",
              "    .colab-df-convert:hover {\n",
              "      background-color: #E2EBFA;\n",
              "      box-shadow: 0px 1px 2px rgba(60, 64, 67, 0.3), 0px 1px 3px 1px rgba(60, 64, 67, 0.15);\n",
              "      fill: #174EA6;\n",
              "    }\n",
              "\n",
              "    .colab-df-buttons div {\n",
              "      margin-bottom: 4px;\n",
              "    }\n",
              "\n",
              "    [theme=dark] .colab-df-convert {\n",
              "      background-color: #3B4455;\n",
              "      fill: #D2E3FC;\n",
              "    }\n",
              "\n",
              "    [theme=dark] .colab-df-convert:hover {\n",
              "      background-color: #434B5C;\n",
              "      box-shadow: 0px 1px 3px 1px rgba(0, 0, 0, 0.15);\n",
              "      filter: drop-shadow(0px 1px 2px rgba(0, 0, 0, 0.3));\n",
              "      fill: #FFFFFF;\n",
              "    }\n",
              "  </style>\n",
              "\n",
              "    <script>\n",
              "      const buttonEl =\n",
              "        document.querySelector('#df-a65f50ba-2e59-4ade-beb3-224ceba548a9 button.colab-df-convert');\n",
              "      buttonEl.style.display =\n",
              "        google.colab.kernel.accessAllowed ? 'block' : 'none';\n",
              "\n",
              "      async function convertToInteractive(key) {\n",
              "        const element = document.querySelector('#df-a65f50ba-2e59-4ade-beb3-224ceba548a9');\n",
              "        const dataTable =\n",
              "          await google.colab.kernel.invokeFunction('convertToInteractive',\n",
              "                                                    [key], {});\n",
              "        if (!dataTable) return;\n",
              "\n",
              "        const docLinkHtml = 'Like what you see? Visit the ' +\n",
              "          '<a target=\"_blank\" href=https://colab.research.google.com/notebooks/data_table.ipynb>data table notebook</a>'\n",
              "          + ' to learn more about interactive tables.';\n",
              "        element.innerHTML = '';\n",
              "        dataTable['output_type'] = 'display_data';\n",
              "        await google.colab.output.renderOutput(dataTable, element);\n",
              "        const docLink = document.createElement('div');\n",
              "        docLink.innerHTML = docLinkHtml;\n",
              "        element.appendChild(docLink);\n",
              "      }\n",
              "    </script>\n",
              "  </div>\n",
              "\n",
              "\n",
              "<div id=\"df-031608d9-a554-4267-a721-43d6d63cdc1f\">\n",
              "  <button class=\"colab-df-quickchart\" onclick=\"quickchart('df-031608d9-a554-4267-a721-43d6d63cdc1f')\"\n",
              "            title=\"Suggest charts\"\n",
              "            style=\"display:none;\">\n",
              "\n",
              "<svg xmlns=\"http://www.w3.org/2000/svg\" height=\"24px\"viewBox=\"0 0 24 24\"\n",
              "     width=\"24px\">\n",
              "    <g>\n",
              "        <path d=\"M19 3H5c-1.1 0-2 .9-2 2v14c0 1.1.9 2 2 2h14c1.1 0 2-.9 2-2V5c0-1.1-.9-2-2-2zM9 17H7v-7h2v7zm4 0h-2V7h2v10zm4 0h-2v-4h2v4z\"/>\n",
              "    </g>\n",
              "</svg>\n",
              "  </button>\n",
              "\n",
              "<style>\n",
              "  .colab-df-quickchart {\n",
              "      --bg-color: #E8F0FE;\n",
              "      --fill-color: #1967D2;\n",
              "      --hover-bg-color: #E2EBFA;\n",
              "      --hover-fill-color: #174EA6;\n",
              "      --disabled-fill-color: #AAA;\n",
              "      --disabled-bg-color: #DDD;\n",
              "  }\n",
              "\n",
              "  [theme=dark] .colab-df-quickchart {\n",
              "      --bg-color: #3B4455;\n",
              "      --fill-color: #D2E3FC;\n",
              "      --hover-bg-color: #434B5C;\n",
              "      --hover-fill-color: #FFFFFF;\n",
              "      --disabled-bg-color: #3B4455;\n",
              "      --disabled-fill-color: #666;\n",
              "  }\n",
              "\n",
              "  .colab-df-quickchart {\n",
              "    background-color: var(--bg-color);\n",
              "    border: none;\n",
              "    border-radius: 50%;\n",
              "    cursor: pointer;\n",
              "    display: none;\n",
              "    fill: var(--fill-color);\n",
              "    height: 32px;\n",
              "    padding: 0;\n",
              "    width: 32px;\n",
              "  }\n",
              "\n",
              "  .colab-df-quickchart:hover {\n",
              "    background-color: var(--hover-bg-color);\n",
              "    box-shadow: 0 1px 2px rgba(60, 64, 67, 0.3), 0 1px 3px 1px rgba(60, 64, 67, 0.15);\n",
              "    fill: var(--button-hover-fill-color);\n",
              "  }\n",
              "\n",
              "  .colab-df-quickchart-complete:disabled,\n",
              "  .colab-df-quickchart-complete:disabled:hover {\n",
              "    background-color: var(--disabled-bg-color);\n",
              "    fill: var(--disabled-fill-color);\n",
              "    box-shadow: none;\n",
              "  }\n",
              "\n",
              "  .colab-df-spinner {\n",
              "    border: 2px solid var(--fill-color);\n",
              "    border-color: transparent;\n",
              "    border-bottom-color: var(--fill-color);\n",
              "    animation:\n",
              "      spin 1s steps(1) infinite;\n",
              "  }\n",
              "\n",
              "  @keyframes spin {\n",
              "    0% {\n",
              "      border-color: transparent;\n",
              "      border-bottom-color: var(--fill-color);\n",
              "      border-left-color: var(--fill-color);\n",
              "    }\n",
              "    20% {\n",
              "      border-color: transparent;\n",
              "      border-left-color: var(--fill-color);\n",
              "      border-top-color: var(--fill-color);\n",
              "    }\n",
              "    30% {\n",
              "      border-color: transparent;\n",
              "      border-left-color: var(--fill-color);\n",
              "      border-top-color: var(--fill-color);\n",
              "      border-right-color: var(--fill-color);\n",
              "    }\n",
              "    40% {\n",
              "      border-color: transparent;\n",
              "      border-right-color: var(--fill-color);\n",
              "      border-top-color: var(--fill-color);\n",
              "    }\n",
              "    60% {\n",
              "      border-color: transparent;\n",
              "      border-right-color: var(--fill-color);\n",
              "    }\n",
              "    80% {\n",
              "      border-color: transparent;\n",
              "      border-right-color: var(--fill-color);\n",
              "      border-bottom-color: var(--fill-color);\n",
              "    }\n",
              "    90% {\n",
              "      border-color: transparent;\n",
              "      border-bottom-color: var(--fill-color);\n",
              "    }\n",
              "  }\n",
              "</style>\n",
              "\n",
              "  <script>\n",
              "    async function quickchart(key) {\n",
              "      const quickchartButtonEl =\n",
              "        document.querySelector('#' + key + ' button');\n",
              "      quickchartButtonEl.disabled = true;  // To prevent multiple clicks.\n",
              "      quickchartButtonEl.classList.add('colab-df-spinner');\n",
              "      try {\n",
              "        const charts = await google.colab.kernel.invokeFunction(\n",
              "            'suggestCharts', [key], {});\n",
              "      } catch (error) {\n",
              "        console.error('Error during call to suggestCharts:', error);\n",
              "      }\n",
              "      quickchartButtonEl.classList.remove('colab-df-spinner');\n",
              "      quickchartButtonEl.classList.add('colab-df-quickchart-complete');\n",
              "    }\n",
              "    (() => {\n",
              "      let quickchartButtonEl =\n",
              "        document.querySelector('#df-031608d9-a554-4267-a721-43d6d63cdc1f button');\n",
              "      quickchartButtonEl.style.display =\n",
              "        google.colab.kernel.accessAllowed ? 'block' : 'none';\n",
              "    })();\n",
              "  </script>\n",
              "</div>\n",
              "\n",
              "    </div>\n",
              "  </div>\n"
            ],
            "application/vnd.google.colaboratory.intrinsic+json": {
              "type": "dataframe",
              "summary": "{\n  \"name\": \"sales\",\n  \"rows\": 1000,\n  \"fields\": [\n    {\n      \"column\": \"Product\",\n      \"properties\": {\n        \"dtype\": \"category\",\n        \"num_unique_values\": 10,\n        \"samples\": [\n          \"Speaker\",\n          \"Smartphone\",\n          \"Mouse\"\n        ],\n        \"semantic_type\": \"\",\n        \"description\": \"\"\n      }\n    },\n    {\n      \"column\": \"Category\",\n      \"properties\": {\n        \"dtype\": \"category\",\n        \"num_unique_values\": 2,\n        \"samples\": [\n          \"Accessories\",\n          \"Electronics\"\n        ],\n        \"semantic_type\": \"\",\n        \"description\": \"\"\n      }\n    },\n    {\n      \"column\": \"Price\",\n      \"properties\": {\n        \"dtype\": \"number\",\n        \"std\": 946.1447094923773,\n        \"min\": 19.99,\n        \"max\": 12005.0,\n        \"num_unique_values\": 11,\n        \"samples\": [\n          19.99,\n          1200.5\n        ],\n        \"semantic_type\": \"\",\n        \"description\": \"\"\n      }\n    },\n    {\n      \"column\": \"Quantity\",\n      \"properties\": {\n        \"dtype\": \"number\",\n        \"std\": 11.582182991448132,\n        \"min\": 1.0,\n        \"max\": 150.0,\n        \"num_unique_values\": 10,\n        \"samples\": [\n          15.0,\n          5.0\n        ],\n        \"semantic_type\": \"\",\n        \"description\": \"\"\n      }\n    },\n    {\n      \"column\": \"Date\",\n      \"properties\": {\n        \"dtype\": \"object\",\n        \"num_unique_values\": 10,\n        \"samples\": [\n          \"2023-08-15\",\n          \"2023-02-20\"\n        ],\n        \"semantic_type\": \"\",\n        \"description\": \"\"\n      }\n    },\n    {\n      \"column\": \"City\",\n      \"properties\": {\n        \"dtype\": \"category\",\n        \"num_unique_values\": 10,\n        \"samples\": [\n          \"San Jose\",\n          \"Los Angeles\"\n        ],\n        \"semantic_type\": \"\",\n        \"description\": \"\"\n      }\n    },\n    {\n      \"column\": \"Payment Method\",\n      \"properties\": {\n        \"dtype\": \"category\",\n        \"num_unique_values\": 3,\n        \"samples\": [\n          \"Credit Card\",\n          \"PayPal\"\n        ],\n        \"semantic_type\": \"\",\n        \"description\": \"\"\n      }\n    }\n  ]\n}"
            }
          },
          "metadata": {},
          "execution_count": 12
        }
      ],
      "source": [
        "# Resposta\n",
        "sales.drop('Order ID', axis=1)"
      ]
    },
    {
      "cell_type": "markdown",
      "id": "47265bff",
      "metadata": {
        "id": "47265bff"
      },
      "source": [
        "### Exercício 7: Agrupar dados por uma coluna e calcular a soma de outra coluna."
      ]
    },
    {
      "cell_type": "markdown",
      "id": "6aa74da1",
      "metadata": {
        "id": "6aa74da1"
      },
      "source": [
        "**Dica: Use `groupby()` seguido de `sum()`.**"
      ]
    },
    {
      "cell_type": "code",
      "execution_count": null,
      "id": "14d4aa90",
      "metadata": {
        "id": "14d4aa90",
        "colab": {
          "base_uri": "https://localhost:8080/",
          "height": 178
        },
        "outputId": "83148e94-d3bd-46ff-d588-046f4e8d23b4"
      },
      "outputs": [
        {
          "output_type": "execute_result",
          "data": {
            "text/plain": [
              "Category\n",
              "Accessories     25149.12\n",
              "Electronics    286620.95\n",
              "Name: Price, dtype: float64"
            ],
            "text/html": [
              "<div>\n",
              "<style scoped>\n",
              "    .dataframe tbody tr th:only-of-type {\n",
              "        vertical-align: middle;\n",
              "    }\n",
              "\n",
              "    .dataframe tbody tr th {\n",
              "        vertical-align: top;\n",
              "    }\n",
              "\n",
              "    .dataframe thead th {\n",
              "        text-align: right;\n",
              "    }\n",
              "</style>\n",
              "<table border=\"1\" class=\"dataframe\">\n",
              "  <thead>\n",
              "    <tr style=\"text-align: right;\">\n",
              "      <th></th>\n",
              "      <th>Price</th>\n",
              "    </tr>\n",
              "    <tr>\n",
              "      <th>Category</th>\n",
              "      <th></th>\n",
              "    </tr>\n",
              "  </thead>\n",
              "  <tbody>\n",
              "    <tr>\n",
              "      <th>Accessories</th>\n",
              "      <td>25149.12</td>\n",
              "    </tr>\n",
              "    <tr>\n",
              "      <th>Electronics</th>\n",
              "      <td>286620.95</td>\n",
              "    </tr>\n",
              "  </tbody>\n",
              "</table>\n",
              "</div><br><label><b>dtype:</b> float64</label>"
            ]
          },
          "metadata": {},
          "execution_count": 13
        }
      ],
      "source": [
        "# Resposta\n",
        "sales.groupby('Category')['Price'].sum()"
      ]
    },
    {
      "cell_type": "markdown",
      "id": "3d485e7b",
      "metadata": {
        "id": "3d485e7b"
      },
      "source": [
        "### Exercício 8: Preencher valores ausentes em uma coluna com a média da coluna."
      ]
    },
    {
      "cell_type": "markdown",
      "id": "a4359389",
      "metadata": {
        "id": "a4359389"
      },
      "source": [
        "**Dica: Use `fillna()` com o valor da média.**"
      ]
    },
    {
      "cell_type": "code",
      "execution_count": null,
      "id": "5bc0cc81",
      "metadata": {
        "id": "5bc0cc81",
        "colab": {
          "base_uri": "https://localhost:8080/",
          "height": 458
        },
        "outputId": "5fc4842c-e18f-4d1b-9012-dc7b6b6ff9e4"
      },
      "outputs": [
        {
          "output_type": "execute_result",
          "data": {
            "text/plain": [
              "0      1200.500000\n",
              "1       800.990000\n",
              "2       300.000000\n",
              "3       150.000000\n",
              "4        25.990000\n",
              "          ...     \n",
              "995      19.990000\n",
              "996      75.490000\n",
              "997     250.000000\n",
              "998      45.000000\n",
              "999     373.522456\n",
              "Name: Price, Length: 1000, dtype: float64"
            ],
            "text/html": [
              "<div>\n",
              "<style scoped>\n",
              "    .dataframe tbody tr th:only-of-type {\n",
              "        vertical-align: middle;\n",
              "    }\n",
              "\n",
              "    .dataframe tbody tr th {\n",
              "        vertical-align: top;\n",
              "    }\n",
              "\n",
              "    .dataframe thead th {\n",
              "        text-align: right;\n",
              "    }\n",
              "</style>\n",
              "<table border=\"1\" class=\"dataframe\">\n",
              "  <thead>\n",
              "    <tr style=\"text-align: right;\">\n",
              "      <th></th>\n",
              "      <th>Price</th>\n",
              "    </tr>\n",
              "  </thead>\n",
              "  <tbody>\n",
              "    <tr>\n",
              "      <th>0</th>\n",
              "      <td>1200.500000</td>\n",
              "    </tr>\n",
              "    <tr>\n",
              "      <th>1</th>\n",
              "      <td>800.990000</td>\n",
              "    </tr>\n",
              "    <tr>\n",
              "      <th>2</th>\n",
              "      <td>300.000000</td>\n",
              "    </tr>\n",
              "    <tr>\n",
              "      <th>3</th>\n",
              "      <td>150.000000</td>\n",
              "    </tr>\n",
              "    <tr>\n",
              "      <th>4</th>\n",
              "      <td>25.990000</td>\n",
              "    </tr>\n",
              "    <tr>\n",
              "      <th>...</th>\n",
              "      <td>...</td>\n",
              "    </tr>\n",
              "    <tr>\n",
              "      <th>995</th>\n",
              "      <td>19.990000</td>\n",
              "    </tr>\n",
              "    <tr>\n",
              "      <th>996</th>\n",
              "      <td>75.490000</td>\n",
              "    </tr>\n",
              "    <tr>\n",
              "      <th>997</th>\n",
              "      <td>250.000000</td>\n",
              "    </tr>\n",
              "    <tr>\n",
              "      <th>998</th>\n",
              "      <td>45.000000</td>\n",
              "    </tr>\n",
              "    <tr>\n",
              "      <th>999</th>\n",
              "      <td>373.522456</td>\n",
              "    </tr>\n",
              "  </tbody>\n",
              "</table>\n",
              "<p>1000 rows × 1 columns</p>\n",
              "</div><br><label><b>dtype:</b> float64</label>"
            ]
          },
          "metadata": {},
          "execution_count": 15
        }
      ],
      "source": [
        "# Resposta\n",
        "sales['Price'].fillna(sales['Price'].mean())"
      ]
    },
    {
      "cell_type": "markdown",
      "id": "72567e76",
      "metadata": {
        "id": "72567e76"
      },
      "source": [
        "### Exercício 9: Ordenar o DataFrame com base em uma coluna em ordem decrescente."
      ]
    },
    {
      "cell_type": "markdown",
      "id": "ef26f13d",
      "metadata": {
        "id": "ef26f13d"
      },
      "source": [
        "**Dica: Use `sort_values()` com `ascending=False`.**"
      ]
    },
    {
      "cell_type": "code",
      "execution_count": null,
      "id": "4504f566",
      "metadata": {
        "id": "4504f566",
        "colab": {
          "base_uri": "https://localhost:8080/",
          "height": 458
        },
        "outputId": "4edaf1c2-8a4d-4738-a47a-8feb92cf83df"
      },
      "outputs": [
        {
          "output_type": "execute_result",
          "data": {
            "text/plain": [
              "999    2023-09-10\n",
              "59     2023-09-10\n",
              "459    2023-09-10\n",
              "469    2023-09-10\n",
              "479    2023-09-10\n",
              "          ...    \n",
              "944           NaN\n",
              "968           NaN\n",
              "972           NaN\n",
              "992           NaN\n",
              "997           NaN\n",
              "Name: Date, Length: 1000, dtype: object"
            ],
            "text/html": [
              "<div>\n",
              "<style scoped>\n",
              "    .dataframe tbody tr th:only-of-type {\n",
              "        vertical-align: middle;\n",
              "    }\n",
              "\n",
              "    .dataframe tbody tr th {\n",
              "        vertical-align: top;\n",
              "    }\n",
              "\n",
              "    .dataframe thead th {\n",
              "        text-align: right;\n",
              "    }\n",
              "</style>\n",
              "<table border=\"1\" class=\"dataframe\">\n",
              "  <thead>\n",
              "    <tr style=\"text-align: right;\">\n",
              "      <th></th>\n",
              "      <th>Date</th>\n",
              "    </tr>\n",
              "  </thead>\n",
              "  <tbody>\n",
              "    <tr>\n",
              "      <th>999</th>\n",
              "      <td>2023-09-10</td>\n",
              "    </tr>\n",
              "    <tr>\n",
              "      <th>59</th>\n",
              "      <td>2023-09-10</td>\n",
              "    </tr>\n",
              "    <tr>\n",
              "      <th>459</th>\n",
              "      <td>2023-09-10</td>\n",
              "    </tr>\n",
              "    <tr>\n",
              "      <th>469</th>\n",
              "      <td>2023-09-10</td>\n",
              "    </tr>\n",
              "    <tr>\n",
              "      <th>479</th>\n",
              "      <td>2023-09-10</td>\n",
              "    </tr>\n",
              "    <tr>\n",
              "      <th>...</th>\n",
              "      <td>...</td>\n",
              "    </tr>\n",
              "    <tr>\n",
              "      <th>944</th>\n",
              "      <td>NaN</td>\n",
              "    </tr>\n",
              "    <tr>\n",
              "      <th>968</th>\n",
              "      <td>NaN</td>\n",
              "    </tr>\n",
              "    <tr>\n",
              "      <th>972</th>\n",
              "      <td>NaN</td>\n",
              "    </tr>\n",
              "    <tr>\n",
              "      <th>992</th>\n",
              "      <td>NaN</td>\n",
              "    </tr>\n",
              "    <tr>\n",
              "      <th>997</th>\n",
              "      <td>NaN</td>\n",
              "    </tr>\n",
              "  </tbody>\n",
              "</table>\n",
              "<p>1000 rows × 1 columns</p>\n",
              "</div><br><label><b>dtype:</b> object</label>"
            ]
          },
          "metadata": {},
          "execution_count": 16
        }
      ],
      "source": [
        "# Resposta\n",
        "sales.Date.sort_values(ascending=False)"
      ]
    },
    {
      "cell_type": "markdown",
      "id": "2ab0fb48",
      "metadata": {
        "id": "2ab0fb48"
      },
      "source": [
        "### Exercício 10: Criar uma nova coluna com base em operações entre colunas existentes."
      ]
    },
    {
      "cell_type": "markdown",
      "id": "5740664c",
      "metadata": {
        "id": "5740664c"
      },
      "source": [
        "**Dica: Basta definir `df['nova_coluna'] = df['coluna1'] + df['coluna2']`.**"
      ]
    },
    {
      "cell_type": "code",
      "execution_count": null,
      "id": "6fa6b06a",
      "metadata": {
        "id": "6fa6b06a"
      },
      "outputs": [],
      "source": [
        "# Resposta\n",
        "sales['Unit Price'] = sales['Price']/sales['Quantity']"
      ]
    },
    {
      "cell_type": "code",
      "source": [
        "sales.head()"
      ],
      "metadata": {
        "colab": {
          "base_uri": "https://localhost:8080/",
          "height": 206
        },
        "id": "4lEXo4GIEx96",
        "outputId": "e0a631d5-b6d3-40d2-96b9-52f4b9048cd8"
      },
      "id": "4lEXo4GIEx96",
      "execution_count": null,
      "outputs": [
        {
          "output_type": "execute_result",
          "data": {
            "text/plain": [
              "   Order ID     Product     Category    Price  Quantity        Date  \\\n",
              "0     101.0      Laptop  Electronics  1200.50       2.0  2023-01-15   \n",
              "1     102.0  Smartphone  Electronics   800.99       5.0  2023-02-20   \n",
              "2     103.0      Tablet  Electronics   300.00       3.0  2023-03-05   \n",
              "3     104.0     Monitor  Electronics   150.00       4.0  2023-03-18   \n",
              "4     105.0    Keyboard  Accessories    25.99      10.0  2023-04-10   \n",
              "\n",
              "          City Payment Method  Unit Price  \n",
              "0     New York    Credit Card     600.250  \n",
              "1  Los Angeles         PayPal     160.198  \n",
              "2          NaN            NaN     100.000  \n",
              "3      Houston     Debit Card      37.500  \n",
              "4      Phoenix    Credit Card       2.599  "
            ],
            "text/html": [
              "\n",
              "  <div id=\"df-e7263db5-28b4-4f2c-8686-4e15f767afb4\" class=\"colab-df-container\">\n",
              "    <div>\n",
              "<style scoped>\n",
              "    .dataframe tbody tr th:only-of-type {\n",
              "        vertical-align: middle;\n",
              "    }\n",
              "\n",
              "    .dataframe tbody tr th {\n",
              "        vertical-align: top;\n",
              "    }\n",
              "\n",
              "    .dataframe thead th {\n",
              "        text-align: right;\n",
              "    }\n",
              "</style>\n",
              "<table border=\"1\" class=\"dataframe\">\n",
              "  <thead>\n",
              "    <tr style=\"text-align: right;\">\n",
              "      <th></th>\n",
              "      <th>Order ID</th>\n",
              "      <th>Product</th>\n",
              "      <th>Category</th>\n",
              "      <th>Price</th>\n",
              "      <th>Quantity</th>\n",
              "      <th>Date</th>\n",
              "      <th>City</th>\n",
              "      <th>Payment Method</th>\n",
              "      <th>Unit Price</th>\n",
              "    </tr>\n",
              "  </thead>\n",
              "  <tbody>\n",
              "    <tr>\n",
              "      <th>0</th>\n",
              "      <td>101.0</td>\n",
              "      <td>Laptop</td>\n",
              "      <td>Electronics</td>\n",
              "      <td>1200.50</td>\n",
              "      <td>2.0</td>\n",
              "      <td>2023-01-15</td>\n",
              "      <td>New York</td>\n",
              "      <td>Credit Card</td>\n",
              "      <td>600.250</td>\n",
              "    </tr>\n",
              "    <tr>\n",
              "      <th>1</th>\n",
              "      <td>102.0</td>\n",
              "      <td>Smartphone</td>\n",
              "      <td>Electronics</td>\n",
              "      <td>800.99</td>\n",
              "      <td>5.0</td>\n",
              "      <td>2023-02-20</td>\n",
              "      <td>Los Angeles</td>\n",
              "      <td>PayPal</td>\n",
              "      <td>160.198</td>\n",
              "    </tr>\n",
              "    <tr>\n",
              "      <th>2</th>\n",
              "      <td>103.0</td>\n",
              "      <td>Tablet</td>\n",
              "      <td>Electronics</td>\n",
              "      <td>300.00</td>\n",
              "      <td>3.0</td>\n",
              "      <td>2023-03-05</td>\n",
              "      <td>NaN</td>\n",
              "      <td>NaN</td>\n",
              "      <td>100.000</td>\n",
              "    </tr>\n",
              "    <tr>\n",
              "      <th>3</th>\n",
              "      <td>104.0</td>\n",
              "      <td>Monitor</td>\n",
              "      <td>Electronics</td>\n",
              "      <td>150.00</td>\n",
              "      <td>4.0</td>\n",
              "      <td>2023-03-18</td>\n",
              "      <td>Houston</td>\n",
              "      <td>Debit Card</td>\n",
              "      <td>37.500</td>\n",
              "    </tr>\n",
              "    <tr>\n",
              "      <th>4</th>\n",
              "      <td>105.0</td>\n",
              "      <td>Keyboard</td>\n",
              "      <td>Accessories</td>\n",
              "      <td>25.99</td>\n",
              "      <td>10.0</td>\n",
              "      <td>2023-04-10</td>\n",
              "      <td>Phoenix</td>\n",
              "      <td>Credit Card</td>\n",
              "      <td>2.599</td>\n",
              "    </tr>\n",
              "  </tbody>\n",
              "</table>\n",
              "</div>\n",
              "    <div class=\"colab-df-buttons\">\n",
              "\n",
              "  <div class=\"colab-df-container\">\n",
              "    <button class=\"colab-df-convert\" onclick=\"convertToInteractive('df-e7263db5-28b4-4f2c-8686-4e15f767afb4')\"\n",
              "            title=\"Convert this dataframe to an interactive table.\"\n",
              "            style=\"display:none;\">\n",
              "\n",
              "  <svg xmlns=\"http://www.w3.org/2000/svg\" height=\"24px\" viewBox=\"0 -960 960 960\">\n",
              "    <path d=\"M120-120v-720h720v720H120Zm60-500h600v-160H180v160Zm220 220h160v-160H400v160Zm0 220h160v-160H400v160ZM180-400h160v-160H180v160Zm440 0h160v-160H620v160ZM180-180h160v-160H180v160Zm440 0h160v-160H620v160Z\"/>\n",
              "  </svg>\n",
              "    </button>\n",
              "\n",
              "  <style>\n",
              "    .colab-df-container {\n",
              "      display:flex;\n",
              "      gap: 12px;\n",
              "    }\n",
              "\n",
              "    .colab-df-convert {\n",
              "      background-color: #E8F0FE;\n",
              "      border: none;\n",
              "      border-radius: 50%;\n",
              "      cursor: pointer;\n",
              "      display: none;\n",
              "      fill: #1967D2;\n",
              "      height: 32px;\n",
              "      padding: 0 0 0 0;\n",
              "      width: 32px;\n",
              "    }\n",
              "\n",
              "    .colab-df-convert:hover {\n",
              "      background-color: #E2EBFA;\n",
              "      box-shadow: 0px 1px 2px rgba(60, 64, 67, 0.3), 0px 1px 3px 1px rgba(60, 64, 67, 0.15);\n",
              "      fill: #174EA6;\n",
              "    }\n",
              "\n",
              "    .colab-df-buttons div {\n",
              "      margin-bottom: 4px;\n",
              "    }\n",
              "\n",
              "    [theme=dark] .colab-df-convert {\n",
              "      background-color: #3B4455;\n",
              "      fill: #D2E3FC;\n",
              "    }\n",
              "\n",
              "    [theme=dark] .colab-df-convert:hover {\n",
              "      background-color: #434B5C;\n",
              "      box-shadow: 0px 1px 3px 1px rgba(0, 0, 0, 0.15);\n",
              "      filter: drop-shadow(0px 1px 2px rgba(0, 0, 0, 0.3));\n",
              "      fill: #FFFFFF;\n",
              "    }\n",
              "  </style>\n",
              "\n",
              "    <script>\n",
              "      const buttonEl =\n",
              "        document.querySelector('#df-e7263db5-28b4-4f2c-8686-4e15f767afb4 button.colab-df-convert');\n",
              "      buttonEl.style.display =\n",
              "        google.colab.kernel.accessAllowed ? 'block' : 'none';\n",
              "\n",
              "      async function convertToInteractive(key) {\n",
              "        const element = document.querySelector('#df-e7263db5-28b4-4f2c-8686-4e15f767afb4');\n",
              "        const dataTable =\n",
              "          await google.colab.kernel.invokeFunction('convertToInteractive',\n",
              "                                                    [key], {});\n",
              "        if (!dataTable) return;\n",
              "\n",
              "        const docLinkHtml = 'Like what you see? Visit the ' +\n",
              "          '<a target=\"_blank\" href=https://colab.research.google.com/notebooks/data_table.ipynb>data table notebook</a>'\n",
              "          + ' to learn more about interactive tables.';\n",
              "        element.innerHTML = '';\n",
              "        dataTable['output_type'] = 'display_data';\n",
              "        await google.colab.output.renderOutput(dataTable, element);\n",
              "        const docLink = document.createElement('div');\n",
              "        docLink.innerHTML = docLinkHtml;\n",
              "        element.appendChild(docLink);\n",
              "      }\n",
              "    </script>\n",
              "  </div>\n",
              "\n",
              "\n",
              "<div id=\"df-168b29bb-fa0c-4dd0-bd55-3645ed0e5fd5\">\n",
              "  <button class=\"colab-df-quickchart\" onclick=\"quickchart('df-168b29bb-fa0c-4dd0-bd55-3645ed0e5fd5')\"\n",
              "            title=\"Suggest charts\"\n",
              "            style=\"display:none;\">\n",
              "\n",
              "<svg xmlns=\"http://www.w3.org/2000/svg\" height=\"24px\"viewBox=\"0 0 24 24\"\n",
              "     width=\"24px\">\n",
              "    <g>\n",
              "        <path d=\"M19 3H5c-1.1 0-2 .9-2 2v14c0 1.1.9 2 2 2h14c1.1 0 2-.9 2-2V5c0-1.1-.9-2-2-2zM9 17H7v-7h2v7zm4 0h-2V7h2v10zm4 0h-2v-4h2v4z\"/>\n",
              "    </g>\n",
              "</svg>\n",
              "  </button>\n",
              "\n",
              "<style>\n",
              "  .colab-df-quickchart {\n",
              "      --bg-color: #E8F0FE;\n",
              "      --fill-color: #1967D2;\n",
              "      --hover-bg-color: #E2EBFA;\n",
              "      --hover-fill-color: #174EA6;\n",
              "      --disabled-fill-color: #AAA;\n",
              "      --disabled-bg-color: #DDD;\n",
              "  }\n",
              "\n",
              "  [theme=dark] .colab-df-quickchart {\n",
              "      --bg-color: #3B4455;\n",
              "      --fill-color: #D2E3FC;\n",
              "      --hover-bg-color: #434B5C;\n",
              "      --hover-fill-color: #FFFFFF;\n",
              "      --disabled-bg-color: #3B4455;\n",
              "      --disabled-fill-color: #666;\n",
              "  }\n",
              "\n",
              "  .colab-df-quickchart {\n",
              "    background-color: var(--bg-color);\n",
              "    border: none;\n",
              "    border-radius: 50%;\n",
              "    cursor: pointer;\n",
              "    display: none;\n",
              "    fill: var(--fill-color);\n",
              "    height: 32px;\n",
              "    padding: 0;\n",
              "    width: 32px;\n",
              "  }\n",
              "\n",
              "  .colab-df-quickchart:hover {\n",
              "    background-color: var(--hover-bg-color);\n",
              "    box-shadow: 0 1px 2px rgba(60, 64, 67, 0.3), 0 1px 3px 1px rgba(60, 64, 67, 0.15);\n",
              "    fill: var(--button-hover-fill-color);\n",
              "  }\n",
              "\n",
              "  .colab-df-quickchart-complete:disabled,\n",
              "  .colab-df-quickchart-complete:disabled:hover {\n",
              "    background-color: var(--disabled-bg-color);\n",
              "    fill: var(--disabled-fill-color);\n",
              "    box-shadow: none;\n",
              "  }\n",
              "\n",
              "  .colab-df-spinner {\n",
              "    border: 2px solid var(--fill-color);\n",
              "    border-color: transparent;\n",
              "    border-bottom-color: var(--fill-color);\n",
              "    animation:\n",
              "      spin 1s steps(1) infinite;\n",
              "  }\n",
              "\n",
              "  @keyframes spin {\n",
              "    0% {\n",
              "      border-color: transparent;\n",
              "      border-bottom-color: var(--fill-color);\n",
              "      border-left-color: var(--fill-color);\n",
              "    }\n",
              "    20% {\n",
              "      border-color: transparent;\n",
              "      border-left-color: var(--fill-color);\n",
              "      border-top-color: var(--fill-color);\n",
              "    }\n",
              "    30% {\n",
              "      border-color: transparent;\n",
              "      border-left-color: var(--fill-color);\n",
              "      border-top-color: var(--fill-color);\n",
              "      border-right-color: var(--fill-color);\n",
              "    }\n",
              "    40% {\n",
              "      border-color: transparent;\n",
              "      border-right-color: var(--fill-color);\n",
              "      border-top-color: var(--fill-color);\n",
              "    }\n",
              "    60% {\n",
              "      border-color: transparent;\n",
              "      border-right-color: var(--fill-color);\n",
              "    }\n",
              "    80% {\n",
              "      border-color: transparent;\n",
              "      border-right-color: var(--fill-color);\n",
              "      border-bottom-color: var(--fill-color);\n",
              "    }\n",
              "    90% {\n",
              "      border-color: transparent;\n",
              "      border-bottom-color: var(--fill-color);\n",
              "    }\n",
              "  }\n",
              "</style>\n",
              "\n",
              "  <script>\n",
              "    async function quickchart(key) {\n",
              "      const quickchartButtonEl =\n",
              "        document.querySelector('#' + key + ' button');\n",
              "      quickchartButtonEl.disabled = true;  // To prevent multiple clicks.\n",
              "      quickchartButtonEl.classList.add('colab-df-spinner');\n",
              "      try {\n",
              "        const charts = await google.colab.kernel.invokeFunction(\n",
              "            'suggestCharts', [key], {});\n",
              "      } catch (error) {\n",
              "        console.error('Error during call to suggestCharts:', error);\n",
              "      }\n",
              "      quickchartButtonEl.classList.remove('colab-df-spinner');\n",
              "      quickchartButtonEl.classList.add('colab-df-quickchart-complete');\n",
              "    }\n",
              "    (() => {\n",
              "      let quickchartButtonEl =\n",
              "        document.querySelector('#df-168b29bb-fa0c-4dd0-bd55-3645ed0e5fd5 button');\n",
              "      quickchartButtonEl.style.display =\n",
              "        google.colab.kernel.accessAllowed ? 'block' : 'none';\n",
              "    })();\n",
              "  </script>\n",
              "</div>\n",
              "\n",
              "    </div>\n",
              "  </div>\n"
            ],
            "application/vnd.google.colaboratory.intrinsic+json": {
              "type": "dataframe",
              "variable_name": "sales",
              "summary": "{\n  \"name\": \"sales\",\n  \"rows\": 1000,\n  \"fields\": [\n    {\n      \"column\": \"Order ID\",\n      \"properties\": {\n        \"dtype\": \"number\",\n        \"std\": 2.857100040288673,\n        \"min\": 101.0,\n        \"max\": 110.0,\n        \"num_unique_values\": 10,\n        \"samples\": [\n          109.0,\n          102.0,\n          106.0\n        ],\n        \"semantic_type\": \"\",\n        \"description\": \"\"\n      }\n    },\n    {\n      \"column\": \"Product\",\n      \"properties\": {\n        \"dtype\": \"category\",\n        \"num_unique_values\": 10,\n        \"samples\": [\n          \"Speaker\",\n          \"Smartphone\",\n          \"Mouse\"\n        ],\n        \"semantic_type\": \"\",\n        \"description\": \"\"\n      }\n    },\n    {\n      \"column\": \"Category\",\n      \"properties\": {\n        \"dtype\": \"category\",\n        \"num_unique_values\": 2,\n        \"samples\": [\n          \"Accessories\",\n          \"Electronics\"\n        ],\n        \"semantic_type\": \"\",\n        \"description\": \"\"\n      }\n    },\n    {\n      \"column\": \"Price\",\n      \"properties\": {\n        \"dtype\": \"number\",\n        \"std\": 946.1447094923773,\n        \"min\": 19.99,\n        \"max\": 12005.0,\n        \"num_unique_values\": 11,\n        \"samples\": [\n          19.99,\n          1200.5\n        ],\n        \"semantic_type\": \"\",\n        \"description\": \"\"\n      }\n    },\n    {\n      \"column\": \"Quantity\",\n      \"properties\": {\n        \"dtype\": \"number\",\n        \"std\": 11.582182991448132,\n        \"min\": 1.0,\n        \"max\": 150.0,\n        \"num_unique_values\": 10,\n        \"samples\": [\n          15.0,\n          5.0\n        ],\n        \"semantic_type\": \"\",\n        \"description\": \"\"\n      }\n    },\n    {\n      \"column\": \"Date\",\n      \"properties\": {\n        \"dtype\": \"object\",\n        \"num_unique_values\": 10,\n        \"samples\": [\n          \"2023-08-15\",\n          \"2023-02-20\"\n        ],\n        \"semantic_type\": \"\",\n        \"description\": \"\"\n      }\n    },\n    {\n      \"column\": \"City\",\n      \"properties\": {\n        \"dtype\": \"category\",\n        \"num_unique_values\": 10,\n        \"samples\": [\n          \"San Jose\",\n          \"Los Angeles\"\n        ],\n        \"semantic_type\": \"\",\n        \"description\": \"\"\n      }\n    },\n    {\n      \"column\": \"Payment Method\",\n      \"properties\": {\n        \"dtype\": \"category\",\n        \"num_unique_values\": 3,\n        \"samples\": [\n          \"Credit Card\",\n          \"PayPal\"\n        ],\n        \"semantic_type\": \"\",\n        \"description\": \"\"\n      }\n    },\n    {\n      \"column\": \"Unit Price\",\n      \"properties\": {\n        \"dtype\": \"number\",\n        \"std\": 299.9694817590333,\n        \"min\": 0.3,\n        \"max\": 4001.6666666666665,\n        \"num_unique_values\": 17,\n        \"samples\": [\n          600.25,\n          160.198\n        ],\n        \"semantic_type\": \"\",\n        \"description\": \"\"\n      }\n    }\n  ]\n}"
            }
          },
          "metadata": {},
          "execution_count": 18
        }
      ]
    },
    {
      "cell_type": "markdown",
      "id": "c01593e8",
      "metadata": {
        "id": "c01593e8"
      },
      "source": [
        "# Exercícios com NumPy"
      ]
    },
    {
      "cell_type": "markdown",
      "id": "e7a0b02a",
      "metadata": {
        "id": "e7a0b02a"
      },
      "source": [
        "### Exercício 1: Crie um array de zeros com 10 elementos."
      ]
    },
    {
      "cell_type": "markdown",
      "id": "13f5bf26",
      "metadata": {
        "id": "13f5bf26"
      },
      "source": [
        "**Dica: Use `np.zeros()` com o tamanho desejado.**"
      ]
    },
    {
      "cell_type": "code",
      "execution_count": null,
      "id": "05ce4a54",
      "metadata": {
        "id": "05ce4a54",
        "colab": {
          "base_uri": "https://localhost:8080/"
        },
        "outputId": "3ec074a9-0ec0-4d72-ce34-69b28658a103"
      },
      "outputs": [
        {
          "output_type": "execute_result",
          "data": {
            "text/plain": [
              "array([0., 0., 0., 0., 0., 0., 0., 0., 0., 0.])"
            ]
          },
          "metadata": {},
          "execution_count": 20
        }
      ],
      "source": [
        "import numpy as np\n",
        "# Resposta\n",
        "array = np.zeros(10)\n",
        "array"
      ]
    },
    {
      "cell_type": "markdown",
      "id": "3f53bd96",
      "metadata": {
        "id": "3f53bd96"
      },
      "source": [
        "### Exercício 2: Crie um array de números inteiros de 1 a 20."
      ]
    },
    {
      "cell_type": "markdown",
      "id": "4e87ff4b",
      "metadata": {
        "id": "4e87ff4b"
      },
      "source": [
        "**Dica: Use `np.arange()` com o intervalo desejado.**"
      ]
    },
    {
      "cell_type": "code",
      "execution_count": null,
      "id": "2d1d7f7f",
      "metadata": {
        "id": "2d1d7f7f",
        "colab": {
          "base_uri": "https://localhost:8080/"
        },
        "outputId": "47b67e06-af0d-4c64-c3ef-f24b30472efe"
      },
      "outputs": [
        {
          "output_type": "execute_result",
          "data": {
            "text/plain": [
              "array([ 1,  2,  3,  4,  5,  6,  7,  8,  9, 10, 11, 12, 13, 14, 15, 16, 17,\n",
              "       18, 19])"
            ]
          },
          "metadata": {},
          "execution_count": 21
        }
      ],
      "source": [
        "# Resposta\n",
        "array = np.arange(1,20)\n",
        "array"
      ]
    },
    {
      "cell_type": "markdown",
      "id": "e378b9e8",
      "metadata": {
        "id": "e378b9e8"
      },
      "source": [
        "### Exercício 3: Calcule a média de um array NumPy."
      ]
    },
    {
      "cell_type": "markdown",
      "id": "61843b06",
      "metadata": {
        "id": "61843b06"
      },
      "source": [
        "**Dica: Use `np.mean()`.**"
      ]
    },
    {
      "cell_type": "code",
      "execution_count": null,
      "id": "64b5a0e1",
      "metadata": {
        "id": "64b5a0e1",
        "colab": {
          "base_uri": "https://localhost:8080/"
        },
        "outputId": "09b461b7-73d9-4b05-dd14-b6b2ac4f4b21"
      },
      "outputs": [
        {
          "output_type": "execute_result",
          "data": {
            "text/plain": [
              "10.0"
            ]
          },
          "metadata": {},
          "execution_count": 22
        }
      ],
      "source": [
        "# Resposta\n",
        "array.mean()"
      ]
    },
    {
      "cell_type": "markdown",
      "id": "78cb1ff5",
      "metadata": {
        "id": "78cb1ff5"
      },
      "source": [
        "### Exercício 4: Gere um array de 5 números aleatórios entre 0 e 1."
      ]
    },
    {
      "cell_type": "markdown",
      "id": "70d1d0f8",
      "metadata": {
        "id": "70d1d0f8"
      },
      "source": [
        "**Dica: Use `np.random.rand()` com o tamanho.**"
      ]
    },
    {
      "cell_type": "code",
      "execution_count": null,
      "id": "a18f6059",
      "metadata": {
        "id": "a18f6059",
        "colab": {
          "base_uri": "https://localhost:8080/"
        },
        "outputId": "c49b4413-0d4d-4dff-bdf0-949d100eea24"
      },
      "outputs": [
        {
          "output_type": "execute_result",
          "data": {
            "text/plain": [
              "array([0.85844489, 0.38961443, 0.35839333, 0.59746124, 0.63148713])"
            ]
          },
          "metadata": {},
          "execution_count": 25
        }
      ],
      "source": [
        "# Resposta\n",
        "array = np.random.rand(5)\n",
        "array"
      ]
    },
    {
      "cell_type": "markdown",
      "id": "c97f0eb3",
      "metadata": {
        "id": "c97f0eb3"
      },
      "source": [
        "### Exercício 5: Redimensione um array 1D para uma matriz 2x5."
      ]
    },
    {
      "cell_type": "markdown",
      "id": "5815bbf4",
      "metadata": {
        "id": "5815bbf4"
      },
      "source": [
        "**Dica: Use `reshape()` com as dimensões desejadas.**"
      ]
    },
    {
      "cell_type": "code",
      "execution_count": null,
      "id": "df189aef",
      "metadata": {
        "id": "df189aef",
        "colab": {
          "base_uri": "https://localhost:8080/"
        },
        "outputId": "d65ce91a-15f9-47a7-d39d-bc9b79a25b00"
      },
      "outputs": [
        {
          "output_type": "execute_result",
          "data": {
            "text/plain": [
              "array([[ 1,  2,  3,  4,  5],\n",
              "       [ 6,  7,  8,  9, 10]])"
            ]
          },
          "metadata": {},
          "execution_count": 31
        }
      ],
      "source": [
        "# Resposta\n",
        "array = np.arange(1,11)\n",
        "array.reshape((2,5))"
      ]
    },
    {
      "cell_type": "markdown",
      "id": "4dd853f4",
      "metadata": {
        "id": "4dd853f4"
      },
      "source": [
        "### Exercício 6: Crie uma matriz identidade de tamanho 4x4."
      ]
    },
    {
      "cell_type": "markdown",
      "id": "eb6f49a5",
      "metadata": {
        "id": "eb6f49a5"
      },
      "source": [
        "**Dica: Use `np.eye()` com o tamanho.**"
      ]
    },
    {
      "cell_type": "code",
      "execution_count": null,
      "id": "b087859b",
      "metadata": {
        "id": "b087859b",
        "colab": {
          "base_uri": "https://localhost:8080/"
        },
        "outputId": "ed9dce40-c46c-4a6c-ac2f-4d224f3b80ae"
      },
      "outputs": [
        {
          "output_type": "execute_result",
          "data": {
            "text/plain": [
              "array([[1., 0., 0., 0.],\n",
              "       [0., 1., 0., 0.],\n",
              "       [0., 0., 1., 0.],\n",
              "       [0., 0., 0., 1.]])"
            ]
          },
          "metadata": {},
          "execution_count": 33
        }
      ],
      "source": [
        "# Resposta\n",
        "array = np.eye(4)\n",
        "array"
      ]
    },
    {
      "cell_type": "markdown",
      "id": "b48d05f6",
      "metadata": {
        "id": "b48d05f6"
      },
      "source": [
        "### Exercício 7: Encontre o valor máximo de um array."
      ]
    },
    {
      "cell_type": "markdown",
      "id": "b7e9001b",
      "metadata": {
        "id": "b7e9001b"
      },
      "source": [
        "**Dica: Use `np.max()` ou `array.max()`.**"
      ]
    },
    {
      "cell_type": "code",
      "execution_count": null,
      "id": "f0d551f9",
      "metadata": {
        "id": "f0d551f9",
        "colab": {
          "base_uri": "https://localhost:8080/"
        },
        "outputId": "58b583fb-87a7-499e-e7bd-a86a8a88aad6"
      },
      "outputs": [
        {
          "output_type": "execute_result",
          "data": {
            "text/plain": [
              "10"
            ]
          },
          "metadata": {},
          "execution_count": 34
        }
      ],
      "source": [
        "# Resposta\n",
        "array = np.arange(1,11)\n",
        "array.max()"
      ]
    },
    {
      "cell_type": "markdown",
      "id": "7e7c6887",
      "metadata": {
        "id": "7e7c6887"
      },
      "source": [
        "### Exercício 8: Soma todos os elementos de um array 2D."
      ]
    },
    {
      "cell_type": "markdown",
      "id": "eecd21e0",
      "metadata": {
        "id": "eecd21e0"
      },
      "source": [
        "**Dica: Use `np.sum()`.**"
      ]
    },
    {
      "cell_type": "code",
      "execution_count": null,
      "id": "571fbcfc",
      "metadata": {
        "id": "571fbcfc",
        "colab": {
          "base_uri": "https://localhost:8080/"
        },
        "outputId": "70ac29dd-4d65-4fb0-d762-468ed56721e0"
      },
      "outputs": [
        {
          "output_type": "execute_result",
          "data": {
            "text/plain": [
              "55"
            ]
          },
          "metadata": {},
          "execution_count": 35
        }
      ],
      "source": [
        "# Resposta\n",
        "array.sum()"
      ]
    },
    {
      "cell_type": "markdown",
      "id": "8e7a12b3",
      "metadata": {
        "id": "8e7a12b3"
      },
      "source": [
        "### Exercício 9: Crie um array de números inteiros de 10 a 20 e substitua todos os valores pares por -1."
      ]
    },
    {
      "cell_type": "markdown",
      "id": "250310c3",
      "metadata": {
        "id": "250310c3"
      },
      "source": [
        "**Dica: Use operações lógicas para modificar os valores.**"
      ]
    },
    {
      "cell_type": "code",
      "execution_count": null,
      "id": "25ba322f",
      "metadata": {
        "id": "25ba322f",
        "colab": {
          "base_uri": "https://localhost:8080/"
        },
        "outputId": "61781b93-603b-41ee-b265-f6dfa443d5e7"
      },
      "outputs": [
        {
          "output_type": "execute_result",
          "data": {
            "text/plain": [
              "array([-1, 11, -1, 13, -1, 15, -1, 17, -1, 19])"
            ]
          },
          "metadata": {},
          "execution_count": 40
        }
      ],
      "source": [
        "# Resposta\n",
        "array = np.arange(10,20)\n",
        "array[array % 2 == 0] = -1\n",
        "array"
      ]
    },
    {
      "cell_type": "markdown",
      "id": "33083e3c",
      "metadata": {
        "id": "33083e3c"
      },
      "source": [
        "### Exercício 10: Empilhe dois arrays horizontalmente."
      ]
    },
    {
      "cell_type": "markdown",
      "id": "e9fb74bb",
      "metadata": {
        "id": "e9fb74bb"
      },
      "source": [
        "**Dica: Use `np.hstack()` ou `np.concatenate()` com `axis=1`.**"
      ]
    },
    {
      "cell_type": "code",
      "execution_count": null,
      "id": "7226a8a8",
      "metadata": {
        "id": "7226a8a8",
        "colab": {
          "base_uri": "https://localhost:8080/"
        },
        "outputId": "dbae92d7-a5ab-409e-a0af-d05123380e4d"
      },
      "outputs": [
        {
          "output_type": "execute_result",
          "data": {
            "text/plain": [
              "array([1, 2, 3, 4, 5, 6, 7, 8, 9, 1, 2, 3, 4, 5, 6, 7, 8, 9])"
            ]
          },
          "metadata": {},
          "execution_count": 42
        }
      ],
      "source": [
        "# Resposta\n",
        "array1 = np.arange(1,10)\n",
        "array2 = np.arange(1,10)\n",
        "\n",
        "np.hstack([array1, array2])"
      ]
    },
    {
      "cell_type": "markdown",
      "id": "92f5ab3f",
      "metadata": {
        "id": "92f5ab3f"
      },
      "source": [
        "# Exercícios com Matplotlib"
      ]
    },
    {
      "cell_type": "markdown",
      "id": "7d2bd20d",
      "metadata": {
        "id": "7d2bd20d"
      },
      "source": [
        "### Exercício 1: Crie um gráfico de linha com valores do eixo x de 0 a 10 e y como x ao quadrado."
      ]
    },
    {
      "cell_type": "markdown",
      "id": "af2afb73",
      "metadata": {
        "id": "af2afb73"
      },
      "source": [
        "**Dica: Use `plt.plot()` e `plt.show()`.**"
      ]
    },
    {
      "cell_type": "code",
      "execution_count": null,
      "id": "3d6e5908",
      "metadata": {
        "id": "3d6e5908",
        "colab": {
          "base_uri": "https://localhost:8080/",
          "height": 447
        },
        "outputId": "4a2ea029-611f-49d5-b1cf-a7dd18e415c1"
      },
      "outputs": [
        {
          "output_type": "execute_result",
          "data": {
            "text/plain": [
              "[<matplotlib.lines.Line2D at 0x7be70934a4d0>]"
            ]
          },
          "metadata": {},
          "execution_count": 46
        },
        {
          "output_type": "display_data",
          "data": {
            "text/plain": [
              "<Figure size 640x480 with 1 Axes>"
            ],
            "image/png": "[encoded data removed]"
          },
          "metadata": {}
        }
      ],
      "source": [
        "import matplotlib.pyplot as plt\n",
        "\n",
        "# Resposta\n",
        "x = np.arange(0,11)\n",
        "y = np.power(x,2)\n",
        "\n",
        "plt.plot(x,y)"
      ]
    },
    {
      "cell_type": "markdown",
      "id": "ee39df9f",
      "metadata": {
        "id": "ee39df9f"
      },
      "source": [
        "### Exercício 2: Ajuste o título e os rótulos dos eixos de um gráfico."
      ]
    },
    {
      "cell_type": "markdown",
      "id": "21824d2a",
      "metadata": {
        "id": "21824d2a"
      },
      "source": [
        "**Dica: Use `plt.title()`, `plt.xlabel()` e `plt.ylabel()`.**"
      ]
    },
    {
      "cell_type": "code",
      "execution_count": null,
      "id": "bfb5bec1",
      "metadata": {
        "id": "bfb5bec1",
        "colab": {
          "base_uri": "https://localhost:8080/",
          "height": 472
        },
        "outputId": "98926b9d-bc77-4314-8489-88cf35aef4f9"
      },
      "outputs": [
        {
          "output_type": "display_data",
          "data": {
            "text/plain": [
              "<Figure size 640x480 with 1 Axes>"
            ],
            "image/png": "[encoded data removed]"
          },
          "metadata": {}
        }
      ],
      "source": [
        "# Resposta\n",
        "x = np.arange(0,11)\n",
        "y = np.power(x,2)\n",
        "\n",
        "plt.plot(x,y)\n",
        "plt.title('Grafico de linha')\n",
        "plt.xlabel('x')\n",
        "plt.ylabel('y')\n",
        "\n",
        "plt.show()"
      ]
    },
    {
      "cell_type": "markdown",
      "id": "16c9f2c5",
      "metadata": {
        "id": "16c9f2c5"
      },
      "source": [
        "### Exercício 3: Crie um gráfico de barras com categorias e valores definidos."
      ]
    },
    {
      "cell_type": "markdown",
      "id": "31984a4a",
      "metadata": {
        "id": "31984a4a"
      },
      "source": [
        "**Dica: Use `plt.bar()` com listas de categorias e valores.**"
      ]
    },
    {
      "cell_type": "code",
      "execution_count": null,
      "id": "4fd93973",
      "metadata": {
        "id": "4fd93973",
        "colab": {
          "base_uri": "https://localhost:8080/",
          "height": 447
        },
        "outputId": "4bf00319-8b52-42ad-c188-87515716dc6d"
      },
      "outputs": [
        {
          "output_type": "execute_result",
          "data": {
            "text/plain": [
              "<BarContainer object of 3 artists>"
            ]
          },
          "metadata": {},
          "execution_count": 48
        },
        {
          "output_type": "display_data",
          "data": {
            "text/plain": [
              "<Figure size 640x480 with 1 Axes>"
            ],
            "image/png": "[encoded data removed]"
          },
          "metadata": {}
        }
      ],
      "source": [
        "# Resposta\n",
        "\n",
        "dados = {\n",
        "    'Nome':['Milena', 'Cibelly','Monteiro'],\n",
        "    'Salario':[1000, 100, 500]\n",
        "}\n",
        "\n",
        "plt.bar(dados['Nome'], dados['Salario'])"
      ]
    },
    {
      "cell_type": "markdown",
      "id": "acfe58cd",
      "metadata": {
        "id": "acfe58cd"
      },
      "source": [
        "### Exercício 4: Crie um histograma de uma distribuição normal."
      ]
    },
    {
      "cell_type": "markdown",
      "id": "0f0c58c8",
      "metadata": {
        "id": "0f0c58c8"
      },
      "source": [
        "**Dica: Use `np.random.normal()` para gerar os dados e `plt.hist()` para plotar.**"
      ]
    },
    {
      "cell_type": "code",
      "execution_count": null,
      "id": "00265b84",
      "metadata": {
        "id": "00265b84",
        "colab": {
          "base_uri": "https://localhost:8080/",
          "height": 430
        },
        "outputId": "6a982cec-6db2-43c4-a357-8af49a1ebbcb"
      },
      "outputs": [
        {
          "output_type": "display_data",
          "data": {
            "text/plain": [
              "<Figure size 640x480 with 1 Axes>"
            ],
            "image/png": "[encoded data removed]"
          },
          "metadata": {}
        }
      ],
      "source": [
        "# Resposta\n",
        "mu, sigma = 0, 0.1 # mean and standard deviation\n",
        "s = np.random.normal(mu, sigma, 1000)\n",
        "plt.hist(s, bins = 50)\n",
        "plt.show()"
      ]
    },
    {
      "cell_type": "markdown",
      "id": "2ae75f5d",
      "metadata": {
        "id": "2ae75f5d"
      },
      "source": [
        "### Exercício 5: Gere um gráfico de dispersão (scatter plot) de duas variáveis."
      ]
    },
    {
      "cell_type": "markdown",
      "id": "b921967f",
      "metadata": {
        "id": "b921967f"
      },
      "source": [
        "**Dica: Use `plt.scatter()` com valores de x e y.**"
      ]
    },
    {
      "cell_type": "code",
      "execution_count": null,
      "id": "c3ba775f",
      "metadata": {
        "id": "c3ba775f",
        "colab": {
          "base_uri": "https://localhost:8080/",
          "height": 430
        },
        "outputId": "eb5ff96c-db2d-438f-8489-6a436f76f821"
      },
      "outputs": [
        {
          "output_type": "display_data",
          "data": {
            "text/plain": [
              "<Figure size 640x480 with 1 Axes>"
            ],
            "image/png": "[encoded data removed]"
          },
          "metadata": {}
        }
      ],
      "source": [
        "# Resposta\n",
        "x = np.arange(0,11)\n",
        "y = np.power(x,2)\n",
        "\n",
        "plt.scatter(x, y)\n",
        "plt.show()"
      ]
    },
    {
      "cell_type": "markdown",
      "id": "8f7599af",
      "metadata": {
        "id": "8f7599af"
      },
      "source": [
        "### Exercício 6: Ajuste o tamanho da figura do gráfico."
      ]
    },
    {
      "cell_type": "markdown",
      "id": "6738b3ab",
      "metadata": {
        "id": "6738b3ab"
      },
      "source": [
        "**Dica: Use `plt.figure(figsize=(largura, altura))`.**"
      ]
    },
    {
      "cell_type": "code",
      "execution_count": null,
      "id": "7780770e",
      "metadata": {
        "id": "7780770e",
        "colab": {
          "base_uri": "https://localhost:8080/",
          "height": 676
        },
        "outputId": "2e81e753-f521-473b-f1c3-bdab13a76a7e"
      },
      "outputs": [
        {
          "output_type": "display_data",
          "data": {
            "text/plain": [
              "<Figure size 1000x800 with 1 Axes>"
            ],
            "image/png": "[encoded data removed]"
          },
          "metadata": {}
        }
      ],
      "source": [
        "# Resposta\n",
        "x = np.arange(0,11)\n",
        "y = np.power(x,2)\n",
        "\n",
        "plt.figure(figsize=(10,8))\n",
        "plt.scatter(x, y)\n",
        "plt.show()"
      ]
    },
    {
      "cell_type": "markdown",
      "id": "9aec03c4",
      "metadata": {
        "id": "9aec03c4"
      },
      "source": [
        "### Exercício 7: Altere as cores e estilos de linha em um gráfico de linha."
      ]
    },
    {
      "cell_type": "markdown",
      "id": "1c4635d4",
      "metadata": {
        "id": "1c4635d4"
      },
      "source": [
        "**Dica: Use parâmetros como `color` e `linestyle` em `plt.plot()`.**"
      ]
    },
    {
      "cell_type": "code",
      "execution_count": null,
      "id": "2e5885dd",
      "metadata": {
        "id": "2e5885dd",
        "colab": {
          "base_uri": "https://localhost:8080/",
          "height": 472
        },
        "outputId": "951578c1-3977-46b6-c4aa-08ea8f6f3e53"
      },
      "outputs": [
        {
          "output_type": "display_data",
          "data": {
            "text/plain": [
              "<Figure size 640x480 with 1 Axes>"
            ],
            "image/png": "[encoded data removed]"
          },
          "metadata": {}
        }
      ],
      "source": [
        "# Resposta\n",
        "x = np.arange(0,11)\n",
        "y = np.power(x,2)\n",
        "\n",
        "plt.c\n",
        "plt.title('Grafico de linha')\n",
        "plt.xlabel('x')\n",
        "plt.ylabel('y')\n",
        "\n",
        "plt.show()"
      ]
    },
    {
      "cell_type": "markdown",
      "id": "e3e3c9c3",
      "metadata": {
        "id": "e3e3c9c3"
      },
      "source": [
        "### Exercício 8: Adicione uma grade ao gráfico."
      ]
    },
    {
      "cell_type": "markdown",
      "id": "f438fc13",
      "metadata": {
        "id": "f438fc13"
      },
      "source": [
        "**Dica: Use `plt.grid(True)` para adicionar a grade.**"
      ]
    },
    {
      "cell_type": "code",
      "execution_count": null,
      "id": "d3c5d456",
      "metadata": {
        "id": "d3c5d456",
        "colab": {
          "base_uri": "https://localhost:8080/",
          "height": 472
        },
        "outputId": "7a94ceb4-e342-42f5-c6db-b82fe4798bb4"
      },
      "outputs": [
        {
          "output_type": "display_data",
          "data": {
            "text/plain": [
              "<Figure size 640x480 with 1 Axes>"
            ],
            "image/png": "[encoded data removed]"
          },
          "metadata": {}
        }
      ],
      "source": [
        "# Resposta# Resposta\n",
        "x = np.arange(0,11)\n",
        "y = np.power(x,2)\n",
        "\n",
        "plt.plot(x,y, color='blue',linestyle='--')\n",
        "plt.title('Grafico de linha')\n",
        "plt.xlabel('x')\n",
        "plt.ylabel('y')\n",
        "plt.grid(True)\n",
        "plt.show()"
      ]
    },
    {
      "cell_type": "markdown",
      "id": "82e5abea",
      "metadata": {
        "id": "82e5abea"
      },
      "source": [
        "### Exercício 9: Crie um gráfico de pizza com percentuais de diferentes categorias."
      ]
    },
    {
      "cell_type": "markdown",
      "id": "02dd042f",
      "metadata": {
        "id": "02dd042f"
      },
      "source": [
        "**Dica: Use `plt.pie()` com valores e labels.**"
      ]
    },
    {
      "cell_type": "code",
      "execution_count": null,
      "id": "cb0e5a65",
      "metadata": {
        "id": "cb0e5a65",
        "colab": {
          "base_uri": "https://localhost:8080/",
          "height": 406
        },
        "outputId": "3cbc674d-979e-4772-8c1a-ccc72fb6be42"
      },
      "outputs": [
        {
          "output_type": "display_data",
          "data": {
            "text/plain": [
              "<Figure size 640x480 with 1 Axes>"
            ],
            "image/png": "[encoded data removed]"
          },
          "metadata": {}
        }
      ],
      "source": [
        "# Resposta\n",
        "\n",
        "dados = {\n",
        "    'Nome':['Milena', 'Cibelly','Monteiro'],\n",
        "    'Salario':[1000, 100, 500]\n",
        "}\n",
        "\n",
        "plt.pie(dados['Salario'],labels=dados['Nome'], autopct='%1.1f%%')\n",
        "plt.show()"
      ]
    },
    {
      "cell_type": "markdown",
      "id": "955f21f1",
      "metadata": {
        "id": "955f21f1"
      },
      "source": [
        "### Exercício 10: Crie múltiplos subplots em uma figura."
      ]
    },
    {
      "cell_type": "markdown",
      "id": "2b56a612",
      "metadata": {
        "id": "2b56a612"
      },
      "source": [
        "**Dica: Use `plt.subplot()` para criar uma grade de subplots.**"
      ]
    },
    {
      "cell_type": "code",
      "execution_count": null,
      "id": "cfa02da7",
      "metadata": {
        "id": "cfa02da7",
        "colab": {
          "base_uri": "https://localhost:8080/",
          "height": 492
        },
        "outputId": "e4a9bf9d-2047-48b1-82cc-8232bd6cfc93"
      },
      "outputs": [
        {
          "output_type": "display_data",
          "data": {
            "text/plain": [
              "<Figure size 640x480 with 4 Axes>"
            ],
            "image/png": "[encoded data removed]"
          },
          "metadata": {}
        }
      ],
      "source": [
        "# Resposta\n",
        "fig, axs = plt.subplots(2,2)\n",
        "\n",
        "dados = {\n",
        "    'Nome':['Milena', 'Cibelly','Monteiro'],\n",
        "    'Salario':[1000, 100, 500]\n",
        "}\n",
        "\n",
        "\n",
        "axs[0,0].pie(dados['Salario'],labels=dados['Nome'], autopct='%1.1f%%')\n",
        "axs[0,0].set_title('Grafico estranho')\n",
        "\n",
        "axs[0,1].plot(x,y, color='blue',linestyle='--')\n",
        "axs[0,1].set_title('Grafico bonitin')\n",
        "\n",
        "axs[1,0].hist(s, bins = 50)\n",
        "axs[1,0].set_title('wow histograma')\n",
        "\n",
        "axs[1,1].plot(x,y)\n",
        "axs[1,1].set_title('Sem comentarios sobre')\n",
        "\n",
        "plt.suptitle('Varios graficos legais')\n",
        "plt.tight_layout()\n",
        "plt.show()"
      ]
    },
    {
      "cell_type": "code",
      "source": [],
      "metadata": {
        "id": "6kph5J39Jz1Y"
      },
      "id": "6kph5J39Jz1Y",
      "execution_count": null,
      "outputs": []
    }
  ],
  "metadata": {
    "colab": {
      "provenance": [],
      "collapsed_sections": [
        "48c37c91"
      ]
    },
    "language_info": {
      "name": "python"
    },
    "kernelspec": {
      "name": "python3",
      "display_name": "Python 3"
    }
  },
  "nbformat": 4,
  "nbformat_minor": 5
}